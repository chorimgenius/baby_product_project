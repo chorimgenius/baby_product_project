{
 "cells": [
  {
   "cell_type": "code",
   "execution_count": 1,
   "id": "ca2c8f7d",
   "metadata": {},
   "outputs": [],
   "source": [
    "import pandas as pd\n",
    "import matplotlib as mpl\n",
    "import matplotlib.pyplot as plt\n",
    "import seaborn as sns\n",
    "import scipy.stats as stats\n",
    "\n",
    "# mpl.rc('font', family='Malgun Gothic')\n",
    "mpl.rc('font', family='AppleGothic')"
   ]
  },
  {
   "cell_type": "code",
   "execution_count": 2,
   "id": "66893ce5",
   "metadata": {
    "collapsed": true
   },
   "outputs": [
    {
     "name": "stderr",
     "output_type": "stream",
     "text": [
      "/var/folders/sv/4hcm2v0d5hl630v663cqcpkh0000gn/T/ipykernel_29295/2150694281.py:1: DtypeWarning: Columns (5) have mixed types. Specify dtype option on import or set low_memory=False.\n",
      "  smp = pd.read_csv('sales_member_product_join.csv')\n"
     ]
    },
    {
     "data": {
      "text/html": [
       "<div>\n",
       "<style scoped>\n",
       "    .dataframe tbody tr th:only-of-type {\n",
       "        vertical-align: middle;\n",
       "    }\n",
       "\n",
       "    .dataframe tbody tr th {\n",
       "        vertical-align: top;\n",
       "    }\n",
       "\n",
       "    .dataframe thead th {\n",
       "        text-align: right;\n",
       "    }\n",
       "</style>\n",
       "<table border=\"1\" class=\"dataframe\">\n",
       "  <thead>\n",
       "    <tr style=\"text-align: right;\">\n",
       "      <th></th>\n",
       "      <th>Unnamed: 0.1</th>\n",
       "      <th>Unnamed: 0</th>\n",
       "      <th>배송시작일</th>\n",
       "      <th>배송완료일</th>\n",
       "      <th>구매자 자녀 나이(개월)</th>\n",
       "      <th>고객번호</th>\n",
       "      <th>구매금액</th>\n",
       "      <th>결제금액</th>\n",
       "      <th>물품대분류_x</th>\n",
       "      <th>상품명</th>\n",
       "      <th>...</th>\n",
       "      <th>성별</th>\n",
       "      <th>결혼유무</th>\n",
       "      <th>거주지역</th>\n",
       "      <th>연령</th>\n",
       "      <th>결제등록카드</th>\n",
       "      <th>유입경로</th>\n",
       "      <th>자녀여부</th>\n",
       "      <th>물품대분류_y</th>\n",
       "      <th>물품판매량</th>\n",
       "      <th>제품단가</th>\n",
       "    </tr>\n",
       "  </thead>\n",
       "  <tbody>\n",
       "    <tr>\n",
       "      <th>0</th>\n",
       "      <td>0</td>\n",
       "      <td>0</td>\n",
       "      <td>2019-05-07</td>\n",
       "      <td>2019-05-11</td>\n",
       "      <td>4</td>\n",
       "      <td>201812310749735</td>\n",
       "      <td>25800</td>\n",
       "      <td>16314</td>\n",
       "      <td>더블하트</td>\n",
       "      <td>더블하트 SofTouch 모유실감 젖꼭지 M (2입)</td>\n",
       "      <td>...</td>\n",
       "      <td>여</td>\n",
       "      <td>기혼</td>\n",
       "      <td>인천</td>\n",
       "      <td>37.0</td>\n",
       "      <td>국민은행</td>\n",
       "      <td>인스타그램</td>\n",
       "      <td>Yes</td>\n",
       "      <td>더블하트</td>\n",
       "      <td>2767</td>\n",
       "      <td>20583</td>\n",
       "    </tr>\n",
       "    <tr>\n",
       "      <th>1</th>\n",
       "      <td>1</td>\n",
       "      <td>1</td>\n",
       "      <td>2020-02-21</td>\n",
       "      <td>2020-02-23</td>\n",
       "      <td>14</td>\n",
       "      <td>201812310749735</td>\n",
       "      <td>51200</td>\n",
       "      <td>37769</td>\n",
       "      <td>팬티</td>\n",
       "      <td>NEW 하기스 맥스드라이 팬티 5단계 남아 80매(팬티형)</td>\n",
       "      <td>...</td>\n",
       "      <td>여</td>\n",
       "      <td>기혼</td>\n",
       "      <td>인천</td>\n",
       "      <td>37.0</td>\n",
       "      <td>국민은행</td>\n",
       "      <td>인스타그램</td>\n",
       "      <td>Yes</td>\n",
       "      <td>팬티</td>\n",
       "      <td>253</td>\n",
       "      <td>53648</td>\n",
       "    </tr>\n",
       "    <tr>\n",
       "      <th>2</th>\n",
       "      <td>2</td>\n",
       "      <td>2</td>\n",
       "      <td>2019-05-14</td>\n",
       "      <td>2019-05-16</td>\n",
       "      <td>66</td>\n",
       "      <td>201812310749771</td>\n",
       "      <td>59520</td>\n",
       "      <td>47922</td>\n",
       "      <td>기저귀</td>\n",
       "      <td>하기스 네이처메이드 밤부 3단계 여아 144매(밴드형)</td>\n",
       "      <td>...</td>\n",
       "      <td>여</td>\n",
       "      <td>기혼</td>\n",
       "      <td>부산</td>\n",
       "      <td>32.0</td>\n",
       "      <td>하나은행</td>\n",
       "      <td>네이버블로그</td>\n",
       "      <td>Yes</td>\n",
       "      <td>기저귀</td>\n",
       "      <td>872</td>\n",
       "      <td>65117</td>\n",
       "    </tr>\n",
       "    <tr>\n",
       "      <th>3</th>\n",
       "      <td>3</td>\n",
       "      <td>3</td>\n",
       "      <td>2019-05-14</td>\n",
       "      <td>2019-05-16</td>\n",
       "      <td>66</td>\n",
       "      <td>201812310749771</td>\n",
       "      <td>59520</td>\n",
       "      <td>47922</td>\n",
       "      <td>기저귀</td>\n",
       "      <td>하기스 네이처메이드 밤부 3단계 여아 144매(밴드형)</td>\n",
       "      <td>...</td>\n",
       "      <td>여</td>\n",
       "      <td>기혼</td>\n",
       "      <td>부산</td>\n",
       "      <td>32.0</td>\n",
       "      <td>하나은행</td>\n",
       "      <td>네이버블로그</td>\n",
       "      <td>Yes</td>\n",
       "      <td>팬티</td>\n",
       "      <td>51</td>\n",
       "      <td>58086</td>\n",
       "    </tr>\n",
       "    <tr>\n",
       "      <th>4</th>\n",
       "      <td>4</td>\n",
       "      <td>4</td>\n",
       "      <td>2019-05-11</td>\n",
       "      <td>2019-05-13</td>\n",
       "      <td>5</td>\n",
       "      <td>201812310749774</td>\n",
       "      <td>50640</td>\n",
       "      <td>39788</td>\n",
       "      <td>기저귀</td>\n",
       "      <td>하기스 에어솔솔 썸머기저귀 3단계 공용 144매(밴드형)</td>\n",
       "      <td>...</td>\n",
       "      <td>여</td>\n",
       "      <td>미혼</td>\n",
       "      <td>경남</td>\n",
       "      <td>34.0</td>\n",
       "      <td>기업은행</td>\n",
       "      <td>지인추천</td>\n",
       "      <td>No</td>\n",
       "      <td>기저귀</td>\n",
       "      <td>49</td>\n",
       "      <td>62008</td>\n",
       "    </tr>\n",
       "  </tbody>\n",
       "</table>\n",
       "<p>5 rows × 25 columns</p>\n",
       "</div>"
      ],
      "text/plain": [
       "   Unnamed: 0.1  Unnamed: 0       배송시작일       배송완료일  구매자 자녀 나이(개월)  \\\n",
       "0             0           0  2019-05-07  2019-05-11              4   \n",
       "1             1           1  2020-02-21  2020-02-23             14   \n",
       "2             2           2  2019-05-14  2019-05-16             66   \n",
       "3             3           3  2019-05-14  2019-05-16             66   \n",
       "4             4           4  2019-05-11  2019-05-13              5   \n",
       "\n",
       "              고객번호   구매금액   결제금액 물품대분류_x                               상품명  \\\n",
       "0  201812310749735  25800  16314    더블하트     더블하트 SofTouch 모유실감 젖꼭지 M (2입)   \n",
       "1  201812310749735  51200  37769      팬티  NEW 하기스 맥스드라이 팬티 5단계 남아 80매(팬티형)   \n",
       "2  201812310749771  59520  47922     기저귀    하기스 네이처메이드 밤부 3단계 여아 144매(밴드형)   \n",
       "3  201812310749771  59520  47922     기저귀    하기스 네이처메이드 밤부 3단계 여아 144매(밴드형)   \n",
       "4  201812310749774  50640  39788     기저귀   하기스 에어솔솔 썸머기저귀 3단계 공용 144매(밴드형)   \n",
       "\n",
       "   ... 성별 결혼유무 거주지역    연령 결제등록카드    유입경로 자녀여부 물품대분류_y  물품판매량   제품단가  \n",
       "0  ...  여   기혼   인천  37.0   국민은행   인스타그램  Yes    더블하트   2767  20583  \n",
       "1  ...  여   기혼   인천  37.0   국민은행   인스타그램  Yes      팬티    253  53648  \n",
       "2  ...  여   기혼   부산  32.0   하나은행  네이버블로그  Yes     기저귀    872  65117  \n",
       "3  ...  여   기혼   부산  32.0   하나은행  네이버블로그  Yes      팬티     51  58086  \n",
       "4  ...  여   미혼   경남  34.0   기업은행    지인추천   No     기저귀     49  62008  \n",
       "\n",
       "[5 rows x 25 columns]"
      ]
     },
     "execution_count": 2,
     "metadata": {},
     "output_type": "execute_result"
    }
   ],
   "source": [
    "smp = pd.read_csv('sales_member_product_join.csv')\n",
    "smp.head()"
   ]
  },
  {
   "cell_type": "code",
   "execution_count": 3,
   "id": "0ce06b91",
   "metadata": {
    "collapsed": true
   },
   "outputs": [
    {
     "name": "stdout",
     "output_type": "stream",
     "text": [
      "<class 'pandas.core.frame.DataFrame'>\n",
      "RangeIndex: 170795 entries, 0 to 170794\n",
      "Data columns (total 25 columns):\n",
      " #   Column         Non-Null Count   Dtype  \n",
      "---  ------         --------------   -----  \n",
      " 0   Unnamed: 0.1   170795 non-null  int64  \n",
      " 1   Unnamed: 0     170795 non-null  int64  \n",
      " 2   배송시작일          170795 non-null  object \n",
      " 3   배송완료일          170795 non-null  object \n",
      " 4   구매자 자녀 나이(개월)  170795 non-null  int64  \n",
      " 5   고객번호           170795 non-null  object \n",
      " 6   구매금액           170795 non-null  int64  \n",
      " 7   결제금액           170795 non-null  int64  \n",
      " 8   물품대분류_x        170795 non-null  object \n",
      " 9   상품명            170795 non-null  object \n",
      " 10  구매일_dt         170795 non-null  object \n",
      " 11  출산여부           170795 non-null  object \n",
      " 12  가입일            170795 non-null  object \n",
      " 13  할인율            170795 non-null  float64\n",
      " 14  유아용여부          170795 non-null  object \n",
      " 15  성별             168305 non-null  object \n",
      " 16  결혼유무           168305 non-null  object \n",
      " 17  거주지역           168305 non-null  object \n",
      " 18  연령             168305 non-null  float64\n",
      " 19  결제등록카드         168305 non-null  object \n",
      " 20  유입경로           168305 non-null  object \n",
      " 21  자녀여부           168305 non-null  object \n",
      " 22  물품대분류_y        170795 non-null  object \n",
      " 23  물품판매량          170795 non-null  int64  \n",
      " 24  제품단가           170795 non-null  int64  \n",
      "dtypes: float64(2), int64(7), object(16)\n",
      "memory usage: 32.6+ MB\n"
     ]
    }
   ],
   "source": [
    "smp.info()"
   ]
  },
  {
   "cell_type": "code",
   "execution_count": 4,
   "id": "22a6436f",
   "metadata": {
    "collapsed": true
   },
   "outputs": [
    {
     "data": {
      "text/html": [
       "<div>\n",
       "<style scoped>\n",
       "    .dataframe tbody tr th:only-of-type {\n",
       "        vertical-align: middle;\n",
       "    }\n",
       "\n",
       "    .dataframe tbody tr th {\n",
       "        vertical-align: top;\n",
       "    }\n",
       "\n",
       "    .dataframe thead th {\n",
       "        text-align: right;\n",
       "    }\n",
       "</style>\n",
       "<table border=\"1\" class=\"dataframe\">\n",
       "  <thead>\n",
       "    <tr style=\"text-align: right;\">\n",
       "      <th></th>\n",
       "      <th>배송시작일</th>\n",
       "      <th>배송완료일</th>\n",
       "      <th>구매자 자녀 나이(개월)</th>\n",
       "      <th>고객번호</th>\n",
       "      <th>구매금액</th>\n",
       "      <th>결제금액</th>\n",
       "      <th>물품대분류_x</th>\n",
       "      <th>상품명</th>\n",
       "      <th>구매일_dt</th>\n",
       "      <th>출산여부</th>\n",
       "      <th>...</th>\n",
       "      <th>성별</th>\n",
       "      <th>결혼유무</th>\n",
       "      <th>거주지역</th>\n",
       "      <th>연령</th>\n",
       "      <th>결제등록카드</th>\n",
       "      <th>유입경로</th>\n",
       "      <th>자녀여부</th>\n",
       "      <th>물품대분류_y</th>\n",
       "      <th>물품판매량</th>\n",
       "      <th>제품단가</th>\n",
       "    </tr>\n",
       "  </thead>\n",
       "  <tbody>\n",
       "    <tr>\n",
       "      <th>0</th>\n",
       "      <td>2019-05-07</td>\n",
       "      <td>2019-05-11</td>\n",
       "      <td>4</td>\n",
       "      <td>201812310749735</td>\n",
       "      <td>25800</td>\n",
       "      <td>16314</td>\n",
       "      <td>더블하트</td>\n",
       "      <td>더블하트 SofTouch 모유실감 젖꼭지 M (2입)</td>\n",
       "      <td>2019-05-06</td>\n",
       "      <td>12개월미만</td>\n",
       "      <td>...</td>\n",
       "      <td>여</td>\n",
       "      <td>기혼</td>\n",
       "      <td>인천</td>\n",
       "      <td>37.0</td>\n",
       "      <td>국민은행</td>\n",
       "      <td>인스타그램</td>\n",
       "      <td>Yes</td>\n",
       "      <td>더블하트</td>\n",
       "      <td>2767</td>\n",
       "      <td>20583</td>\n",
       "    </tr>\n",
       "    <tr>\n",
       "      <th>1</th>\n",
       "      <td>2020-02-21</td>\n",
       "      <td>2020-02-23</td>\n",
       "      <td>14</td>\n",
       "      <td>201812310749735</td>\n",
       "      <td>51200</td>\n",
       "      <td>37769</td>\n",
       "      <td>팬티</td>\n",
       "      <td>NEW 하기스 맥스드라이 팬티 5단계 남아 80매(팬티형)</td>\n",
       "      <td>2020-02-20</td>\n",
       "      <td>24개월미만</td>\n",
       "      <td>...</td>\n",
       "      <td>여</td>\n",
       "      <td>기혼</td>\n",
       "      <td>인천</td>\n",
       "      <td>37.0</td>\n",
       "      <td>국민은행</td>\n",
       "      <td>인스타그램</td>\n",
       "      <td>Yes</td>\n",
       "      <td>팬티</td>\n",
       "      <td>253</td>\n",
       "      <td>53648</td>\n",
       "    </tr>\n",
       "    <tr>\n",
       "      <th>2</th>\n",
       "      <td>2019-05-14</td>\n",
       "      <td>2019-05-16</td>\n",
       "      <td>66</td>\n",
       "      <td>201812310749771</td>\n",
       "      <td>59520</td>\n",
       "      <td>47922</td>\n",
       "      <td>기저귀</td>\n",
       "      <td>하기스 네이처메이드 밤부 3단계 여아 144매(밴드형)</td>\n",
       "      <td>2019-05-13</td>\n",
       "      <td>48개월이상</td>\n",
       "      <td>...</td>\n",
       "      <td>여</td>\n",
       "      <td>기혼</td>\n",
       "      <td>부산</td>\n",
       "      <td>32.0</td>\n",
       "      <td>하나은행</td>\n",
       "      <td>네이버블로그</td>\n",
       "      <td>Yes</td>\n",
       "      <td>기저귀</td>\n",
       "      <td>872</td>\n",
       "      <td>65117</td>\n",
       "    </tr>\n",
       "    <tr>\n",
       "      <th>3</th>\n",
       "      <td>2019-05-14</td>\n",
       "      <td>2019-05-16</td>\n",
       "      <td>66</td>\n",
       "      <td>201812310749771</td>\n",
       "      <td>59520</td>\n",
       "      <td>47922</td>\n",
       "      <td>기저귀</td>\n",
       "      <td>하기스 네이처메이드 밤부 3단계 여아 144매(밴드형)</td>\n",
       "      <td>2019-05-13</td>\n",
       "      <td>48개월이상</td>\n",
       "      <td>...</td>\n",
       "      <td>여</td>\n",
       "      <td>기혼</td>\n",
       "      <td>부산</td>\n",
       "      <td>32.0</td>\n",
       "      <td>하나은행</td>\n",
       "      <td>네이버블로그</td>\n",
       "      <td>Yes</td>\n",
       "      <td>팬티</td>\n",
       "      <td>51</td>\n",
       "      <td>58086</td>\n",
       "    </tr>\n",
       "    <tr>\n",
       "      <th>4</th>\n",
       "      <td>2019-05-11</td>\n",
       "      <td>2019-05-13</td>\n",
       "      <td>5</td>\n",
       "      <td>201812310749774</td>\n",
       "      <td>50640</td>\n",
       "      <td>39788</td>\n",
       "      <td>기저귀</td>\n",
       "      <td>하기스 에어솔솔 썸머기저귀 3단계 공용 144매(밴드형)</td>\n",
       "      <td>2019-05-10</td>\n",
       "      <td>12개월미만</td>\n",
       "      <td>...</td>\n",
       "      <td>여</td>\n",
       "      <td>미혼</td>\n",
       "      <td>경남</td>\n",
       "      <td>34.0</td>\n",
       "      <td>기업은행</td>\n",
       "      <td>지인추천</td>\n",
       "      <td>No</td>\n",
       "      <td>기저귀</td>\n",
       "      <td>49</td>\n",
       "      <td>62008</td>\n",
       "    </tr>\n",
       "  </tbody>\n",
       "</table>\n",
       "<p>5 rows × 23 columns</p>\n",
       "</div>"
      ],
      "text/plain": [
       "        배송시작일       배송완료일  구매자 자녀 나이(개월)             고객번호   구매금액   결제금액  \\\n",
       "0  2019-05-07  2019-05-11              4  201812310749735  25800  16314   \n",
       "1  2020-02-21  2020-02-23             14  201812310749735  51200  37769   \n",
       "2  2019-05-14  2019-05-16             66  201812310749771  59520  47922   \n",
       "3  2019-05-14  2019-05-16             66  201812310749771  59520  47922   \n",
       "4  2019-05-11  2019-05-13              5  201812310749774  50640  39788   \n",
       "\n",
       "  물품대분류_x                               상품명      구매일_dt    출산여부  ... 성별  결혼유무  \\\n",
       "0    더블하트     더블하트 SofTouch 모유실감 젖꼭지 M (2입)  2019-05-06  12개월미만  ...  여    기혼   \n",
       "1      팬티  NEW 하기스 맥스드라이 팬티 5단계 남아 80매(팬티형)  2020-02-20  24개월미만  ...  여    기혼   \n",
       "2     기저귀    하기스 네이처메이드 밤부 3단계 여아 144매(밴드형)  2019-05-13  48개월이상  ...  여    기혼   \n",
       "3     기저귀    하기스 네이처메이드 밤부 3단계 여아 144매(밴드형)  2019-05-13  48개월이상  ...  여    기혼   \n",
       "4     기저귀   하기스 에어솔솔 썸머기저귀 3단계 공용 144매(밴드형)  2019-05-10  12개월미만  ...  여    미혼   \n",
       "\n",
       "  거주지역    연령 결제등록카드    유입경로  자녀여부 물품대분류_y 물품판매량   제품단가  \n",
       "0   인천  37.0   국민은행   인스타그램   Yes    더블하트  2767  20583  \n",
       "1   인천  37.0   국민은행   인스타그램   Yes      팬티   253  53648  \n",
       "2   부산  32.0   하나은행  네이버블로그   Yes     기저귀   872  65117  \n",
       "3   부산  32.0   하나은행  네이버블로그   Yes      팬티    51  58086  \n",
       "4   경남  34.0   기업은행    지인추천    No     기저귀    49  62008  \n",
       "\n",
       "[5 rows x 23 columns]"
      ]
     },
     "execution_count": 4,
     "metadata": {},
     "output_type": "execute_result"
    }
   ],
   "source": [
    "smp.drop(columns=['Unnamed: 0','Unnamed: 0.1'], inplace = True)\n",
    "smp.head()"
   ]
  },
  {
   "cell_type": "markdown",
   "id": "1c27162d",
   "metadata": {},
   "source": [
    "## 결제금액 이상치 제거"
   ]
  },
  {
   "cell_type": "code",
   "execution_count": 5,
   "id": "7c4ebbb1",
   "metadata": {},
   "outputs": [
    {
     "data": {
      "text/html": [
       "<div>\n",
       "<style scoped>\n",
       "    .dataframe tbody tr th:only-of-type {\n",
       "        vertical-align: middle;\n",
       "    }\n",
       "\n",
       "    .dataframe tbody tr th {\n",
       "        vertical-align: top;\n",
       "    }\n",
       "\n",
       "    .dataframe thead th {\n",
       "        text-align: right;\n",
       "    }\n",
       "</style>\n",
       "<table border=\"1\" class=\"dataframe\">\n",
       "  <thead>\n",
       "    <tr style=\"text-align: right;\">\n",
       "      <th></th>\n",
       "      <th>배송시작일</th>\n",
       "      <th>배송완료일</th>\n",
       "      <th>구매자 자녀 나이(개월)</th>\n",
       "      <th>고객번호</th>\n",
       "      <th>구매금액</th>\n",
       "      <th>결제금액</th>\n",
       "      <th>물품대분류_x</th>\n",
       "      <th>상품명</th>\n",
       "      <th>구매일_dt</th>\n",
       "      <th>출산여부</th>\n",
       "      <th>...</th>\n",
       "      <th>성별</th>\n",
       "      <th>결혼유무</th>\n",
       "      <th>거주지역</th>\n",
       "      <th>연령</th>\n",
       "      <th>결제등록카드</th>\n",
       "      <th>유입경로</th>\n",
       "      <th>자녀여부</th>\n",
       "      <th>물품대분류_y</th>\n",
       "      <th>물품판매량</th>\n",
       "      <th>제품단가</th>\n",
       "    </tr>\n",
       "  </thead>\n",
       "  <tbody>\n",
       "    <tr>\n",
       "      <th>70849</th>\n",
       "      <td>2020-07-01</td>\n",
       "      <td>2020-07-03</td>\n",
       "      <td>12</td>\n",
       "      <td>201904040860910</td>\n",
       "      <td>43900</td>\n",
       "      <td>-35166</td>\n",
       "      <td>팬티</td>\n",
       "      <td>2020 하기스 매직팬티 컴포트 썸머 4단계 공용 96매(팬티형)</td>\n",
       "      <td>2020-06-30</td>\n",
       "      <td>24개월미만</td>\n",
       "      <td>...</td>\n",
       "      <td>여</td>\n",
       "      <td>미혼</td>\n",
       "      <td>경기</td>\n",
       "      <td>31.0</td>\n",
       "      <td>씨티은행</td>\n",
       "      <td>지인추천</td>\n",
       "      <td>No</td>\n",
       "      <td>팬티</td>\n",
       "      <td>461</td>\n",
       "      <td>48934</td>\n",
       "    </tr>\n",
       "  </tbody>\n",
       "</table>\n",
       "<p>1 rows × 23 columns</p>\n",
       "</div>"
      ],
      "text/plain": [
       "            배송시작일       배송완료일  구매자 자녀 나이(개월)             고객번호   구매금액   결제금액  \\\n",
       "70849  2020-07-01  2020-07-03             12  201904040860910  43900 -35166   \n",
       "\n",
       "      물품대분류_x                                   상품명      구매일_dt    출산여부  ...  \\\n",
       "70849      팬티  2020 하기스 매직팬티 컴포트 썸머 4단계 공용 96매(팬티형)  2020-06-30  24개월미만  ...   \n",
       "\n",
       "      성별  결혼유무 거주지역    연령 결제등록카드  유입경로  자녀여부 물품대분류_y 물품판매량   제품단가  \n",
       "70849  여    미혼   경기  31.0   씨티은행  지인추천    No      팬티   461  48934  \n",
       "\n",
       "[1 rows x 23 columns]"
      ]
     },
     "execution_count": 5,
     "metadata": {},
     "output_type": "execute_result"
    }
   ],
   "source": [
    "cond1 = (smp['결제금액'] < 0)\n",
    "smp.loc[cond1]"
   ]
  },
  {
   "cell_type": "code",
   "execution_count": 6,
   "id": "985a2377",
   "metadata": {},
   "outputs": [],
   "source": [
    "smp.drop(index=70849, inplace=True)"
   ]
  },
  {
   "cell_type": "code",
   "execution_count": 7,
   "id": "2f2dfbb1",
   "metadata": {
    "collapsed": true
   },
   "outputs": [
    {
     "name": "stdout",
     "output_type": "stream",
     "text": [
      "<class 'pandas.core.frame.DataFrame'>\n",
      "Int64Index: 170794 entries, 0 to 170794\n",
      "Data columns (total 23 columns):\n",
      " #   Column         Non-Null Count   Dtype  \n",
      "---  ------         --------------   -----  \n",
      " 0   배송시작일          170794 non-null  object \n",
      " 1   배송완료일          170794 non-null  object \n",
      " 2   구매자 자녀 나이(개월)  170794 non-null  int64  \n",
      " 3   고객번호           170794 non-null  object \n",
      " 4   구매금액           170794 non-null  int64  \n",
      " 5   결제금액           170794 non-null  int64  \n",
      " 6   물품대분류_x        170794 non-null  object \n",
      " 7   상품명            170794 non-null  object \n",
      " 8   구매일_dt         170794 non-null  object \n",
      " 9   출산여부           170794 non-null  object \n",
      " 10  가입일            170794 non-null  object \n",
      " 11  할인율            170794 non-null  float64\n",
      " 12  유아용여부          170794 non-null  object \n",
      " 13  성별             168304 non-null  object \n",
      " 14  결혼유무           168304 non-null  object \n",
      " 15  거주지역           168304 non-null  object \n",
      " 16  연령             168304 non-null  float64\n",
      " 17  결제등록카드         168304 non-null  object \n",
      " 18  유입경로           168304 non-null  object \n",
      " 19  자녀여부           168304 non-null  object \n",
      " 20  물품대분류_y        170794 non-null  object \n",
      " 21  물품판매량          170794 non-null  int64  \n",
      " 22  제품단가           170794 non-null  int64  \n",
      "dtypes: float64(2), int64(5), object(16)\n",
      "memory usage: 31.3+ MB\n"
     ]
    }
   ],
   "source": [
    "smp.info()"
   ]
  },
  {
   "cell_type": "markdown",
   "id": "504f07a4",
   "metadata": {},
   "source": [
    "## 파생변수 생성('할인율', '판매량')"
   ]
  },
  {
   "cell_type": "code",
   "execution_count": 8,
   "id": "48748e1e",
   "metadata": {
    "collapsed": true
   },
   "outputs": [
    {
     "data": {
      "text/plain": [
       "0         36.77\n",
       "1         26.23\n",
       "2         19.49\n",
       "3         19.49\n",
       "4         21.43\n",
       "          ...  \n",
       "170790     0.00\n",
       "170791     0.00\n",
       "170792    43.68\n",
       "170793    21.03\n",
       "170794     1.00\n",
       "Name: 할인율, Length: 170794, dtype: float64"
      ]
     },
     "execution_count": 8,
     "metadata": {},
     "output_type": "execute_result"
    }
   ],
   "source": [
    "smp['할인율'] = round(((smp['구매금액']-smp['결제금액']) / smp['구매금액'])*100, 2)\n",
    "smp['할인율']"
   ]
  },
  {
   "cell_type": "code",
   "execution_count": 9,
   "id": "c86286d1",
   "metadata": {
    "collapsed": true
   },
   "outputs": [
    {
     "data": {
      "text/plain": [
       "0         36.767442\n",
       "1         26.232422\n",
       "2         19.485887\n",
       "3         19.485887\n",
       "4         21.429700\n",
       "            ...    \n",
       "170790     0.000000\n",
       "170791     0.000000\n",
       "170792    43.683367\n",
       "170793    21.025641\n",
       "170794     1.000000\n",
       "Length: 170794, dtype: float64"
      ]
     },
     "execution_count": 9,
     "metadata": {},
     "output_type": "execute_result"
    }
   ],
   "source": [
    "((smp['구매금액']-smp['결제금액']) / smp['구매금액'])*100"
   ]
  },
  {
   "cell_type": "code",
   "execution_count": 10,
   "id": "144c1111",
   "metadata": {
    "collapsed": true
   },
   "outputs": [
    {
     "data": {
      "text/plain": [
       "0            7.44\n",
       "1          212.05\n",
       "2           74.68\n",
       "3         1138.94\n",
       "4         1265.47\n",
       "           ...   \n",
       "170790       0.25\n",
       "170791       0.25\n",
       "170792     164.33\n",
       "170793     251.40\n",
       "170794      23.98\n",
       "Name: 판매량, Length: 170794, dtype: float64"
      ]
     },
     "execution_count": 10,
     "metadata": {},
     "output_type": "execute_result"
    }
   ],
   "source": [
    "smp['판매량'] = round(smp['제품단가']/smp['물품판매량'], 2)\n",
    "smp['판매량']"
   ]
  },
  {
   "cell_type": "markdown",
   "id": "6673fcdd",
   "metadata": {},
   "source": [
    "## 고객 계층별 할인율과 구매횟수의 상관관계 분석"
   ]
  },
  {
   "cell_type": "code",
   "execution_count": 11,
   "id": "aae7e9a9",
   "metadata": {
    "collapsed": true
   },
   "outputs": [
    {
     "name": "stdout",
     "output_type": "stream",
     "text": [
      "<class 'pandas.core.frame.DataFrame'>\n",
      "Int64Index: 170794 entries, 0 to 170794\n",
      "Data columns (total 24 columns):\n",
      " #   Column         Non-Null Count   Dtype  \n",
      "---  ------         --------------   -----  \n",
      " 0   배송시작일          170794 non-null  object \n",
      " 1   배송완료일          170794 non-null  object \n",
      " 2   구매자 자녀 나이(개월)  170794 non-null  int64  \n",
      " 3   고객번호           170794 non-null  object \n",
      " 4   구매금액           170794 non-null  int64  \n",
      " 5   결제금액           170794 non-null  int64  \n",
      " 6   물품대분류_x        170794 non-null  object \n",
      " 7   상품명            170794 non-null  object \n",
      " 8   구매일_dt         170794 non-null  object \n",
      " 9   출산여부           170794 non-null  object \n",
      " 10  가입일            170794 non-null  object \n",
      " 11  할인율            170794 non-null  float64\n",
      " 12  유아용여부          170794 non-null  object \n",
      " 13  성별             168304 non-null  object \n",
      " 14  결혼유무           168304 non-null  object \n",
      " 15  거주지역           168304 non-null  object \n",
      " 16  연령             168304 non-null  float64\n",
      " 17  결제등록카드         168304 non-null  object \n",
      " 18  유입경로           168304 non-null  object \n",
      " 19  자녀여부           168304 non-null  object \n",
      " 20  물품대분류_y        170794 non-null  object \n",
      " 21  물품판매량          170794 non-null  int64  \n",
      " 22  제품단가           170794 non-null  int64  \n",
      " 23  판매량            170794 non-null  float64\n",
      "dtypes: float64(3), int64(5), object(16)\n",
      "memory usage: 32.6+ MB\n"
     ]
    }
   ],
   "source": [
    "smp.info()"
   ]
  },
  {
   "cell_type": "code",
   "execution_count": 28,
   "id": "09793318",
   "metadata": {
    "collapsed": true
   },
   "outputs": [
    {
     "data": {
      "text/html": [
       "<div>\n",
       "<style scoped>\n",
       "    .dataframe tbody tr th:only-of-type {\n",
       "        vertical-align: middle;\n",
       "    }\n",
       "\n",
       "    .dataframe tbody tr th {\n",
       "        vertical-align: top;\n",
       "    }\n",
       "\n",
       "    .dataframe thead th {\n",
       "        text-align: right;\n",
       "    }\n",
       "</style>\n",
       "<table border=\"1\" class=\"dataframe\">\n",
       "  <thead>\n",
       "    <tr style=\"text-align: right;\">\n",
       "      <th></th>\n",
       "      <th>고객번호</th>\n",
       "      <th>count</th>\n",
       "    </tr>\n",
       "  </thead>\n",
       "  <tbody>\n",
       "    <tr>\n",
       "      <th>0</th>\n",
       "      <td>201903010820643</td>\n",
       "      <td>57</td>\n",
       "    </tr>\n",
       "    <tr>\n",
       "      <th>1</th>\n",
       "      <td>201903010820312</td>\n",
       "      <td>56</td>\n",
       "    </tr>\n",
       "    <tr>\n",
       "      <th>2</th>\n",
       "      <td>201903010820392</td>\n",
       "      <td>56</td>\n",
       "    </tr>\n",
       "    <tr>\n",
       "      <th>3</th>\n",
       "      <td>201909020975656</td>\n",
       "      <td>55</td>\n",
       "    </tr>\n",
       "    <tr>\n",
       "      <th>4</th>\n",
       "      <td>201903030822834</td>\n",
       "      <td>53</td>\n",
       "    </tr>\n",
       "    <tr>\n",
       "      <th>...</th>\n",
       "      <td>...</td>\n",
       "      <td>...</td>\n",
       "    </tr>\n",
       "    <tr>\n",
       "      <th>63881</th>\n",
       "      <td>201907170940323</td>\n",
       "      <td>1</td>\n",
       "    </tr>\n",
       "    <tr>\n",
       "      <th>63882</th>\n",
       "      <td>201902240812106</td>\n",
       "      <td>1</td>\n",
       "    </tr>\n",
       "    <tr>\n",
       "      <th>63883</th>\n",
       "      <td>201907170940312</td>\n",
       "      <td>1</td>\n",
       "    </tr>\n",
       "    <tr>\n",
       "      <th>63884</th>\n",
       "      <td>201907170940310</td>\n",
       "      <td>1</td>\n",
       "    </tr>\n",
       "    <tr>\n",
       "      <th>63885</th>\n",
       "      <td>20200803075905757887</td>\n",
       "      <td>1</td>\n",
       "    </tr>\n",
       "  </tbody>\n",
       "</table>\n",
       "<p>63886 rows × 2 columns</p>\n",
       "</div>"
      ],
      "text/plain": [
       "                       고객번호  count\n",
       "0           201903010820643     57\n",
       "1           201903010820312     56\n",
       "2           201903010820392     56\n",
       "3           201909020975656     55\n",
       "4           201903030822834     53\n",
       "...                     ...    ...\n",
       "63881       201907170940323      1\n",
       "63882       201902240812106      1\n",
       "63883       201907170940312      1\n",
       "63884       201907170940310      1\n",
       "63885  20200803075905757887      1\n",
       "\n",
       "[63886 rows x 2 columns]"
      ]
     },
     "execution_count": 28,
     "metadata": {},
     "output_type": "execute_result"
    }
   ],
   "source": [
    "p1 = smp['고객번호'].value_counts().reset_index()\n",
    "p2 = p1.rename(columns={'고객번호':'count', 'index':'고객번호'})\n",
    "p2"
   ]
  },
  {
   "cell_type": "code",
   "execution_count": 29,
   "id": "a9276c5f",
   "metadata": {
    "collapsed": true
   },
   "outputs": [
    {
     "data": {
      "text/html": [
       "<div>\n",
       "<style scoped>\n",
       "    .dataframe tbody tr th:only-of-type {\n",
       "        vertical-align: middle;\n",
       "    }\n",
       "\n",
       "    .dataframe tbody tr th {\n",
       "        vertical-align: top;\n",
       "    }\n",
       "\n",
       "    .dataframe thead th {\n",
       "        text-align: right;\n",
       "    }\n",
       "</style>\n",
       "<table border=\"1\" class=\"dataframe\">\n",
       "  <thead>\n",
       "    <tr style=\"text-align: right;\">\n",
       "      <th></th>\n",
       "      <th>배송시작일</th>\n",
       "      <th>배송완료일</th>\n",
       "      <th>구매자 자녀 나이(개월)</th>\n",
       "      <th>고객번호</th>\n",
       "      <th>구매금액</th>\n",
       "      <th>결제금액</th>\n",
       "      <th>물품대분류_x</th>\n",
       "      <th>상품명</th>\n",
       "      <th>구매일_dt</th>\n",
       "      <th>출산여부</th>\n",
       "      <th>...</th>\n",
       "      <th>거주지역</th>\n",
       "      <th>연령</th>\n",
       "      <th>결제등록카드</th>\n",
       "      <th>유입경로</th>\n",
       "      <th>자녀여부</th>\n",
       "      <th>물품대분류_y</th>\n",
       "      <th>물품판매량</th>\n",
       "      <th>제품단가</th>\n",
       "      <th>판매량</th>\n",
       "      <th>count</th>\n",
       "    </tr>\n",
       "  </thead>\n",
       "  <tbody>\n",
       "    <tr>\n",
       "      <th>0</th>\n",
       "      <td>2019-05-07</td>\n",
       "      <td>2019-05-11</td>\n",
       "      <td>4</td>\n",
       "      <td>201812310749735</td>\n",
       "      <td>25800</td>\n",
       "      <td>16314</td>\n",
       "      <td>더블하트</td>\n",
       "      <td>더블하트 SofTouch 모유실감 젖꼭지 M (2입)</td>\n",
       "      <td>2019-05-06</td>\n",
       "      <td>12개월미만</td>\n",
       "      <td>...</td>\n",
       "      <td>인천</td>\n",
       "      <td>37.0</td>\n",
       "      <td>국민은행</td>\n",
       "      <td>인스타그램</td>\n",
       "      <td>Yes</td>\n",
       "      <td>더블하트</td>\n",
       "      <td>2767</td>\n",
       "      <td>20583</td>\n",
       "      <td>7.44</td>\n",
       "      <td>2</td>\n",
       "    </tr>\n",
       "    <tr>\n",
       "      <th>1</th>\n",
       "      <td>2020-02-21</td>\n",
       "      <td>2020-02-23</td>\n",
       "      <td>14</td>\n",
       "      <td>201812310749735</td>\n",
       "      <td>51200</td>\n",
       "      <td>37769</td>\n",
       "      <td>팬티</td>\n",
       "      <td>NEW 하기스 맥스드라이 팬티 5단계 남아 80매(팬티형)</td>\n",
       "      <td>2020-02-20</td>\n",
       "      <td>24개월미만</td>\n",
       "      <td>...</td>\n",
       "      <td>인천</td>\n",
       "      <td>37.0</td>\n",
       "      <td>국민은행</td>\n",
       "      <td>인스타그램</td>\n",
       "      <td>Yes</td>\n",
       "      <td>팬티</td>\n",
       "      <td>253</td>\n",
       "      <td>53648</td>\n",
       "      <td>212.05</td>\n",
       "      <td>2</td>\n",
       "    </tr>\n",
       "    <tr>\n",
       "      <th>2</th>\n",
       "      <td>2019-05-14</td>\n",
       "      <td>2019-05-16</td>\n",
       "      <td>66</td>\n",
       "      <td>201812310749771</td>\n",
       "      <td>59520</td>\n",
       "      <td>47922</td>\n",
       "      <td>기저귀</td>\n",
       "      <td>하기스 네이처메이드 밤부 3단계 여아 144매(밴드형)</td>\n",
       "      <td>2019-05-13</td>\n",
       "      <td>48개월이상</td>\n",
       "      <td>...</td>\n",
       "      <td>부산</td>\n",
       "      <td>32.0</td>\n",
       "      <td>하나은행</td>\n",
       "      <td>네이버블로그</td>\n",
       "      <td>Yes</td>\n",
       "      <td>기저귀</td>\n",
       "      <td>872</td>\n",
       "      <td>65117</td>\n",
       "      <td>74.68</td>\n",
       "      <td>2</td>\n",
       "    </tr>\n",
       "    <tr>\n",
       "      <th>3</th>\n",
       "      <td>2019-05-14</td>\n",
       "      <td>2019-05-16</td>\n",
       "      <td>66</td>\n",
       "      <td>201812310749771</td>\n",
       "      <td>59520</td>\n",
       "      <td>47922</td>\n",
       "      <td>기저귀</td>\n",
       "      <td>하기스 네이처메이드 밤부 3단계 여아 144매(밴드형)</td>\n",
       "      <td>2019-05-13</td>\n",
       "      <td>48개월이상</td>\n",
       "      <td>...</td>\n",
       "      <td>부산</td>\n",
       "      <td>32.0</td>\n",
       "      <td>하나은행</td>\n",
       "      <td>네이버블로그</td>\n",
       "      <td>Yes</td>\n",
       "      <td>팬티</td>\n",
       "      <td>51</td>\n",
       "      <td>58086</td>\n",
       "      <td>1138.94</td>\n",
       "      <td>2</td>\n",
       "    </tr>\n",
       "    <tr>\n",
       "      <th>4</th>\n",
       "      <td>2019-05-11</td>\n",
       "      <td>2019-05-13</td>\n",
       "      <td>5</td>\n",
       "      <td>201812310749774</td>\n",
       "      <td>50640</td>\n",
       "      <td>39788</td>\n",
       "      <td>기저귀</td>\n",
       "      <td>하기스 에어솔솔 썸머기저귀 3단계 공용 144매(밴드형)</td>\n",
       "      <td>2019-05-10</td>\n",
       "      <td>12개월미만</td>\n",
       "      <td>...</td>\n",
       "      <td>경남</td>\n",
       "      <td>34.0</td>\n",
       "      <td>기업은행</td>\n",
       "      <td>지인추천</td>\n",
       "      <td>No</td>\n",
       "      <td>기저귀</td>\n",
       "      <td>49</td>\n",
       "      <td>62008</td>\n",
       "      <td>1265.47</td>\n",
       "      <td>2</td>\n",
       "    </tr>\n",
       "    <tr>\n",
       "      <th>...</th>\n",
       "      <td>...</td>\n",
       "      <td>...</td>\n",
       "      <td>...</td>\n",
       "      <td>...</td>\n",
       "      <td>...</td>\n",
       "      <td>...</td>\n",
       "      <td>...</td>\n",
       "      <td>...</td>\n",
       "      <td>...</td>\n",
       "      <td>...</td>\n",
       "      <td>...</td>\n",
       "      <td>...</td>\n",
       "      <td>...</td>\n",
       "      <td>...</td>\n",
       "      <td>...</td>\n",
       "      <td>...</td>\n",
       "      <td>...</td>\n",
       "      <td>...</td>\n",
       "      <td>...</td>\n",
       "      <td>...</td>\n",
       "      <td>...</td>\n",
       "    </tr>\n",
       "    <tr>\n",
       "      <th>170789</th>\n",
       "      <td>2020-07-02</td>\n",
       "      <td>2020-07-05</td>\n",
       "      <td>0</td>\n",
       "      <td>20200701135343105212</td>\n",
       "      <td>3000</td>\n",
       "      <td>3000</td>\n",
       "      <td>체험팩</td>\n",
       "      <td>맘큐 허그박스</td>\n",
       "      <td>2020-07-01</td>\n",
       "      <td>12개월미만</td>\n",
       "      <td>...</td>\n",
       "      <td>NaN</td>\n",
       "      <td>NaN</td>\n",
       "      <td>NaN</td>\n",
       "      <td>NaN</td>\n",
       "      <td>NaN</td>\n",
       "      <td>체험팩</td>\n",
       "      <td>12077</td>\n",
       "      <td>3000</td>\n",
       "      <td>0.25</td>\n",
       "      <td>1</td>\n",
       "    </tr>\n",
       "    <tr>\n",
       "      <th>170790</th>\n",
       "      <td>2020-07-03</td>\n",
       "      <td>2020-07-07</td>\n",
       "      <td>0</td>\n",
       "      <td>20200701145626242035</td>\n",
       "      <td>3000</td>\n",
       "      <td>3000</td>\n",
       "      <td>체험팩</td>\n",
       "      <td>맘큐 허그박스</td>\n",
       "      <td>2020-07-02</td>\n",
       "      <td>12개월미만</td>\n",
       "      <td>...</td>\n",
       "      <td>NaN</td>\n",
       "      <td>NaN</td>\n",
       "      <td>NaN</td>\n",
       "      <td>NaN</td>\n",
       "      <td>NaN</td>\n",
       "      <td>체험팩</td>\n",
       "      <td>12077</td>\n",
       "      <td>3000</td>\n",
       "      <td>0.25</td>\n",
       "      <td>1</td>\n",
       "    </tr>\n",
       "    <tr>\n",
       "      <th>170791</th>\n",
       "      <td>2020-07-10</td>\n",
       "      <td>2020-07-12</td>\n",
       "      <td>6</td>\n",
       "      <td>20200708231025349606</td>\n",
       "      <td>49900</td>\n",
       "      <td>28102</td>\n",
       "      <td>기저귀</td>\n",
       "      <td>하기스 NEW 네이처메이드 썸머 3단계 공용 120매(밴드형)</td>\n",
       "      <td>2020-07-09</td>\n",
       "      <td>12개월미만</td>\n",
       "      <td>...</td>\n",
       "      <td>NaN</td>\n",
       "      <td>NaN</td>\n",
       "      <td>NaN</td>\n",
       "      <td>NaN</td>\n",
       "      <td>NaN</td>\n",
       "      <td>기저귀</td>\n",
       "      <td>332</td>\n",
       "      <td>54559</td>\n",
       "      <td>164.33</td>\n",
       "      <td>1</td>\n",
       "    </tr>\n",
       "    <tr>\n",
       "      <th>170792</th>\n",
       "      <td>2020-07-25</td>\n",
       "      <td>2020-07-27</td>\n",
       "      <td>5</td>\n",
       "      <td>20200724113017315991</td>\n",
       "      <td>11700</td>\n",
       "      <td>9240</td>\n",
       "      <td>FMC</td>\n",
       "      <td>크리넥스 뽑아쓰는 키친타월 펭수에디션 140매 X 4입 (EA)</td>\n",
       "      <td>2020-07-24</td>\n",
       "      <td>12개월미만</td>\n",
       "      <td>...</td>\n",
       "      <td>NaN</td>\n",
       "      <td>NaN</td>\n",
       "      <td>NaN</td>\n",
       "      <td>NaN</td>\n",
       "      <td>NaN</td>\n",
       "      <td>FMC</td>\n",
       "      <td>55</td>\n",
       "      <td>13827</td>\n",
       "      <td>251.40</td>\n",
       "      <td>1</td>\n",
       "    </tr>\n",
       "    <tr>\n",
       "      <th>170793</th>\n",
       "      <td>2020-08-04</td>\n",
       "      <td>2020-08-07</td>\n",
       "      <td>5</td>\n",
       "      <td>20200803075905757887</td>\n",
       "      <td>5900</td>\n",
       "      <td>5841</td>\n",
       "      <td>체험팩</td>\n",
       "      <td>NEW 하기스 맥스드라이 팬티 3단계 공용 20매(팬티형/체험팩) (EA)</td>\n",
       "      <td>2020-08-03</td>\n",
       "      <td>12개월미만</td>\n",
       "      <td>...</td>\n",
       "      <td>NaN</td>\n",
       "      <td>NaN</td>\n",
       "      <td>NaN</td>\n",
       "      <td>NaN</td>\n",
       "      <td>NaN</td>\n",
       "      <td>체험팩</td>\n",
       "      <td>246</td>\n",
       "      <td>5900</td>\n",
       "      <td>23.98</td>\n",
       "      <td>1</td>\n",
       "    </tr>\n",
       "  </tbody>\n",
       "</table>\n",
       "<p>170794 rows × 25 columns</p>\n",
       "</div>"
      ],
      "text/plain": [
       "             배송시작일       배송완료일  구매자 자녀 나이(개월)                  고객번호   구매금액  \\\n",
       "0       2019-05-07  2019-05-11              4       201812310749735  25800   \n",
       "1       2020-02-21  2020-02-23             14       201812310749735  51200   \n",
       "2       2019-05-14  2019-05-16             66       201812310749771  59520   \n",
       "3       2019-05-14  2019-05-16             66       201812310749771  59520   \n",
       "4       2019-05-11  2019-05-13              5       201812310749774  50640   \n",
       "...            ...         ...            ...                   ...    ...   \n",
       "170789  2020-07-02  2020-07-05              0  20200701135343105212   3000   \n",
       "170790  2020-07-03  2020-07-07              0  20200701145626242035   3000   \n",
       "170791  2020-07-10  2020-07-12              6  20200708231025349606  49900   \n",
       "170792  2020-07-25  2020-07-27              5  20200724113017315991  11700   \n",
       "170793  2020-08-04  2020-08-07              5  20200803075905757887   5900   \n",
       "\n",
       "         결제금액 물품대분류_x                                        상품명      구매일_dt  \\\n",
       "0       16314    더블하트              더블하트 SofTouch 모유실감 젖꼭지 M (2입)  2019-05-06   \n",
       "1       37769      팬티           NEW 하기스 맥스드라이 팬티 5단계 남아 80매(팬티형)  2020-02-20   \n",
       "2       47922     기저귀             하기스 네이처메이드 밤부 3단계 여아 144매(밴드형)  2019-05-13   \n",
       "3       47922     기저귀             하기스 네이처메이드 밤부 3단계 여아 144매(밴드형)  2019-05-13   \n",
       "4       39788     기저귀            하기스 에어솔솔 썸머기저귀 3단계 공용 144매(밴드형)  2019-05-10   \n",
       "...       ...     ...                                        ...         ...   \n",
       "170789   3000     체험팩                                    맘큐 허그박스  2020-07-01   \n",
       "170790   3000     체험팩                                    맘큐 허그박스  2020-07-02   \n",
       "170791  28102     기저귀         하기스 NEW 네이처메이드 썸머 3단계 공용 120매(밴드형)  2020-07-09   \n",
       "170792   9240     FMC        크리넥스 뽑아쓰는 키친타월 펭수에디션 140매 X 4입 (EA)  2020-07-24   \n",
       "170793   5841     체험팩  NEW 하기스 맥스드라이 팬티 3단계 공용 20매(팬티형/체험팩) (EA)  2020-08-03   \n",
       "\n",
       "          출산여부  ... 거주지역    연령 결제등록카드    유입경로 자녀여부 물품대분류_y  물품판매량   제품단가  \\\n",
       "0       12개월미만  ...   인천  37.0   국민은행   인스타그램  Yes    더블하트   2767  20583   \n",
       "1       24개월미만  ...   인천  37.0   국민은행   인스타그램  Yes      팬티    253  53648   \n",
       "2       48개월이상  ...   부산  32.0   하나은행  네이버블로그  Yes     기저귀    872  65117   \n",
       "3       48개월이상  ...   부산  32.0   하나은행  네이버블로그  Yes      팬티     51  58086   \n",
       "4       12개월미만  ...   경남  34.0   기업은행    지인추천   No     기저귀     49  62008   \n",
       "...        ...  ...  ...   ...    ...     ...  ...     ...    ...    ...   \n",
       "170789  12개월미만  ...  NaN   NaN    NaN     NaN  NaN     체험팩  12077   3000   \n",
       "170790  12개월미만  ...  NaN   NaN    NaN     NaN  NaN     체험팩  12077   3000   \n",
       "170791  12개월미만  ...  NaN   NaN    NaN     NaN  NaN     기저귀    332  54559   \n",
       "170792  12개월미만  ...  NaN   NaN    NaN     NaN  NaN     FMC     55  13827   \n",
       "170793  12개월미만  ...  NaN   NaN    NaN     NaN  NaN     체험팩    246   5900   \n",
       "\n",
       "            판매량 count  \n",
       "0          7.44     2  \n",
       "1        212.05     2  \n",
       "2         74.68     2  \n",
       "3       1138.94     2  \n",
       "4       1265.47     2  \n",
       "...         ...   ...  \n",
       "170789     0.25     1  \n",
       "170790     0.25     1  \n",
       "170791   164.33     1  \n",
       "170792   251.40     1  \n",
       "170793    23.98     1  \n",
       "\n",
       "[170794 rows x 25 columns]"
      ]
     },
     "execution_count": 29,
     "metadata": {},
     "output_type": "execute_result"
    }
   ],
   "source": [
    "smp1 = pd.merge(smp, p2, how='left', on='고객번호')\n",
    "smp1"
   ]
  },
  {
   "cell_type": "code",
   "execution_count": 30,
   "id": "43af28c4",
   "metadata": {
    "collapsed": true
   },
   "outputs": [
    {
     "data": {
      "text/plain": [
       "1     32749\n",
       "2     23784\n",
       "3     18078\n",
       "4     14392\n",
       "5     11960\n",
       "6     10242\n",
       "7      8932\n",
       "8      7768\n",
       "9      6741\n",
       "10     5550\n",
       "11     4543\n",
       "12     3864\n",
       "13     3042\n",
       "14     2646\n",
       "15     2115\n",
       "16     2048\n",
       "17     1734\n",
       "18     1584\n",
       "20     1100\n",
       "21      903\n",
       "19      817\n",
       "22      814\n",
       "23      690\n",
       "24      600\n",
       "26      364\n",
       "28      336\n",
       "53      265\n",
       "29      261\n",
       "31      248\n",
       "25      225\n",
       "27      216\n",
       "39      195\n",
       "32      192\n",
       "38      190\n",
       "37      185\n",
       "30      180\n",
       "46      138\n",
       "33      132\n",
       "41      123\n",
       "56      112\n",
       "51      102\n",
       "34      102\n",
       "47       94\n",
       "36       72\n",
       "35       70\n",
       "57       57\n",
       "55       55\n",
       "52       52\n",
       "50       50\n",
       "42       42\n",
       "40       40\n",
       "Name: count, dtype: int64"
      ]
     },
     "execution_count": 30,
     "metadata": {},
     "output_type": "execute_result"
    }
   ],
   "source": [
    "smp1['count'].value_counts()\n",
    "# count는 각 고객별로 구매한 횟수를 나타낸 것임"
   ]
  },
  {
   "cell_type": "code",
   "execution_count": 31,
   "id": "b4d3165e",
   "metadata": {
    "collapsed": true
   },
   "outputs": [
    {
     "data": {
      "text/plain": [
       "3회 이상    114261\n",
       "1~2회      56533\n",
       "Name: 구매횟수별구분, dtype: int64"
      ]
     },
     "execution_count": 31,
     "metadata": {},
     "output_type": "execute_result"
    }
   ],
   "source": [
    "cond1 = (smp1['count'] > 2)\n",
    "smp1.loc[~cond1, '구매횟수별구분'] = '1~2회'\n",
    "smp1.loc[cond1, '구매횟수별구분'] = '3회 이상'\n",
    "smp1['구매횟수별구분'].value_counts()"
   ]
  },
  {
   "cell_type": "code",
   "execution_count": 32,
   "id": "dc93314d",
   "metadata": {},
   "outputs": [],
   "source": [
    "cond1 = (smp1['구매횟수별구분']=='1~2회')\n",
    "cond2 = (smp1['구매횟수별구분']=='3회 이상')\n",
    "smp1_12 = smp1.loc[cond1]\n",
    "smp1_3 = smp1.loc[cond2]"
   ]
  },
  {
   "cell_type": "code",
   "execution_count": 33,
   "id": "80ff1608",
   "metadata": {
    "collapsed": true
   },
   "outputs": [
    {
     "name": "stdout",
     "output_type": "stream",
     "text": [
      "구매횟수 :  NormaltestResult(statistic=206371.7272602918, pvalue=0.0)\n",
      "할인율 :  NormaltestResult(statistic=5002.64996794106, pvalue=0.0)\n"
     ]
    }
   ],
   "source": [
    "# 정규분포 확인\n",
    "# 귀무가설: 정규분포를 따른다 \n",
    "# 대립가설: 정규분포를 따르지 않는다\n",
    "print('구매횟수 : ',stats.normaltest(smp1_12['count']))\n",
    "print('할인율 : ', stats.normaltest(smp1_12['할인율']))\n",
    "# 구매횟수 P.value < 0.05 | 대립가설 참 | 정규분포를 따르지 않는다\n",
    "# 할인율  P.value < 0.05 | 대립가설 참 | 정규분포를 따르지 않는다\n",
    "# 구매횟수, 할인율은 정규분포를 따르지 않는다"
   ]
  },
  {
   "cell_type": "code",
   "execution_count": 34,
   "id": "7307874d",
   "metadata": {
    "collapsed": true
   },
   "outputs": [
    {
     "data": {
      "text/plain": [
       "SignificanceResult(statistic=0.13604677261906734, pvalue=1.1428016515595493e-231)"
      ]
     },
     "execution_count": 34,
     "metadata": {},
     "output_type": "execute_result"
    }
   ],
   "source": [
    "# 상관관계 확인\n",
    "# 귀무가설: 서로 연관성이 없다\n",
    "# 대립가설: 서로 연관성이 있다\n",
    "stats.spearmanr(smp1_12['count'], smp1_12['할인율'])\n",
    "# P.value < 0.05 | 대립가설 참 |구매횟수와 할인율은 상관성이 있다."
   ]
  },
  {
   "cell_type": "code",
   "execution_count": 35,
   "id": "70413f6d",
   "metadata": {
    "collapsed": true
   },
   "outputs": [
    {
     "name": "stdout",
     "output_type": "stream",
     "text": [
      "구매횟수 :  NormaltestResult(statistic=68483.30897491435, pvalue=0.0)\n",
      "할인율 :  NormaltestResult(statistic=191.04382507025315, pvalue=3.276125160766977e-42)\n"
     ]
    }
   ],
   "source": [
    "# 정규분포 확인\n",
    "# 귀무가설: 정규분포를 따른다 \n",
    "# 대립가설: 정규분포를 따르지 않는다\n",
    "print('구매횟수 : ',stats.normaltest(smp1_3['count']))\n",
    "print('할인율 : ', stats.normaltest(smp1_3['할인율']))\n",
    "# 구매횟수 P.value < 0.05 | 대립가설 참 | 정규분포를 따르지 않는다\n",
    "# 할인율  P.value < 0.05 | 대립가설 참 | 정규분포를 따르지 않는다\n",
    "# 구매횟수, 할인율은 정규분포를 따르지 않는다"
   ]
  },
  {
   "cell_type": "code",
   "execution_count": 38,
   "id": "89105d45",
   "metadata": {},
   "outputs": [
    {
     "data": {
      "text/plain": [
       "SignificanceResult(statistic=0.07097633348592831, pvalue=1.6452380475423585e-127)"
      ]
     },
     "execution_count": 38,
     "metadata": {},
     "output_type": "execute_result"
    }
   ],
   "source": [
    "# 상관관계 확인 (구매횟수 할인율 둘다 정규분포 아님)\n",
    "# 귀무가설: 서로 연관성이 없다\n",
    "# 대립가설: 서로 연관성이 있다\n",
    "stats.spearmanr(smp1_3['count'], smp1_3['할인율'])\n",
    "# P.value < 0.05 | 대립가설 참 |구매횟수와 할인율은 상관성이 있다."
   ]
  },
  {
   "cell_type": "code",
   "execution_count": 37,
   "id": "53d57e46",
   "metadata": {},
   "outputs": [],
   "source": [
    "# 물품대분류별 재구매수 파악\n",
    "# 상품의 변수(대분류,가격) 간의 독립성 검정\n",
    "# 2번에서 나온 독립된 변수와 재구매 수의 상관 분석"
   ]
  },
  {
   "cell_type": "code",
   "execution_count": 41,
   "id": "52224762",
   "metadata": {
    "collapsed": true
   },
   "outputs": [
    {
     "name": "stdout",
     "output_type": "stream",
     "text": [
      "<class 'pandas.core.frame.DataFrame'>\n",
      "Int64Index: 170794 entries, 0 to 170793\n",
      "Data columns (total 26 columns):\n",
      " #   Column         Non-Null Count   Dtype  \n",
      "---  ------         --------------   -----  \n",
      " 0   배송시작일          170794 non-null  object \n",
      " 1   배송완료일          170794 non-null  object \n",
      " 2   구매자 자녀 나이(개월)  170794 non-null  int64  \n",
      " 3   고객번호           170794 non-null  object \n",
      " 4   구매금액           170794 non-null  int64  \n",
      " 5   결제금액           170794 non-null  int64  \n",
      " 6   물품대분류_x        170794 non-null  object \n",
      " 7   상품명            170794 non-null  object \n",
      " 8   구매일_dt         170794 non-null  object \n",
      " 9   출산여부           170794 non-null  object \n",
      " 10  가입일            170794 non-null  object \n",
      " 11  할인율            170794 non-null  float64\n",
      " 12  유아용여부          170794 non-null  object \n",
      " 13  성별             168304 non-null  object \n",
      " 14  결혼유무           168304 non-null  object \n",
      " 15  거주지역           168304 non-null  object \n",
      " 16  연령             168304 non-null  float64\n",
      " 17  결제등록카드         168304 non-null  object \n",
      " 18  유입경로           168304 non-null  object \n",
      " 19  자녀여부           168304 non-null  object \n",
      " 20  물품대분류_y        170794 non-null  object \n",
      " 21  물품판매량          170794 non-null  int64  \n",
      " 22  제품단가           170794 non-null  int64  \n",
      " 23  판매량            170794 non-null  float64\n",
      " 24  count          170794 non-null  int64  \n",
      " 25  구매횟수별구분        170794 non-null  object \n",
      "dtypes: float64(3), int64(6), object(17)\n",
      "memory usage: 35.2+ MB\n"
     ]
    }
   ],
   "source": [
    "smp1.info()"
   ]
  },
  {
   "cell_type": "code",
   "execution_count": 57,
   "id": "86a07509",
   "metadata": {
    "collapsed": true
   },
   "outputs": [
    {
     "data": {
      "text/plain": [
       "3회 이상    114261\n",
       "1회        32749\n",
       "2회        23784\n",
       "Name: 재구매수, dtype: int64"
      ]
     },
     "execution_count": 57,
     "metadata": {},
     "output_type": "execute_result"
    }
   ],
   "source": [
    "cond1 = (smp1['count'] == 1)\n",
    "cond2 = (smp1['count'] == 2)\n",
    "cond3 = (smp1['count'] > 2)\n",
    "smp1.loc[cond1]\n",
    "smp1.loc[cond1, '재구매수'] = '1회'\n",
    "smp1.loc[cond2, '재구매수'] = '2회'\n",
    "smp1.loc[cond3, '재구매수'] = '3회 이상'\n",
    "smp1['재구매수'].value_counts()"
   ]
  },
  {
   "cell_type": "code",
   "execution_count": 59,
   "id": "2e7af122",
   "metadata": {
    "collapsed": true
   },
   "outputs": [
    {
     "data": {
      "text/html": [
       "<div>\n",
       "<style scoped>\n",
       "    .dataframe tbody tr th:only-of-type {\n",
       "        vertical-align: middle;\n",
       "    }\n",
       "\n",
       "    .dataframe tbody tr th {\n",
       "        vertical-align: top;\n",
       "    }\n",
       "\n",
       "    .dataframe thead th {\n",
       "        text-align: right;\n",
       "    }\n",
       "</style>\n",
       "<table border=\"1\" class=\"dataframe\">\n",
       "  <thead>\n",
       "    <tr style=\"text-align: right;\">\n",
       "      <th>재구매수</th>\n",
       "      <th>1회</th>\n",
       "      <th>2회</th>\n",
       "      <th>3회 이상</th>\n",
       "    </tr>\n",
       "    <tr>\n",
       "      <th>물품대분류_x</th>\n",
       "      <th></th>\n",
       "      <th></th>\n",
       "      <th></th>\n",
       "    </tr>\n",
       "  </thead>\n",
       "  <tbody>\n",
       "    <tr>\n",
       "      <th>FC</th>\n",
       "      <td>886</td>\n",
       "      <td>975</td>\n",
       "      <td>5634</td>\n",
       "    </tr>\n",
       "    <tr>\n",
       "      <th>FMC</th>\n",
       "      <td>2379</td>\n",
       "      <td>1964</td>\n",
       "      <td>10418</td>\n",
       "    </tr>\n",
       "    <tr>\n",
       "      <th>SKC</th>\n",
       "      <td>1503</td>\n",
       "      <td>1402</td>\n",
       "      <td>3865</td>\n",
       "    </tr>\n",
       "    <tr>\n",
       "      <th>SrC</th>\n",
       "      <td>1</td>\n",
       "      <td>1</td>\n",
       "      <td>9</td>\n",
       "    </tr>\n",
       "    <tr>\n",
       "      <th>기저귀</th>\n",
       "      <td>4360</td>\n",
       "      <td>4910</td>\n",
       "      <td>29134</td>\n",
       "    </tr>\n",
       "    <tr>\n",
       "      <th>기타</th>\n",
       "      <td>716</td>\n",
       "      <td>827</td>\n",
       "      <td>4918</td>\n",
       "    </tr>\n",
       "    <tr>\n",
       "      <th>더블하트</th>\n",
       "      <td>6142</td>\n",
       "      <td>5353</td>\n",
       "      <td>22025</td>\n",
       "    </tr>\n",
       "    <tr>\n",
       "      <th>물티슈</th>\n",
       "      <td>1109</td>\n",
       "      <td>770</td>\n",
       "      <td>3836</td>\n",
       "    </tr>\n",
       "    <tr>\n",
       "      <th>체험팩</th>\n",
       "      <td>12718</td>\n",
       "      <td>4929</td>\n",
       "      <td>14380</td>\n",
       "    </tr>\n",
       "    <tr>\n",
       "      <th>팬티</th>\n",
       "      <td>2935</td>\n",
       "      <td>2653</td>\n",
       "      <td>20042</td>\n",
       "    </tr>\n",
       "  </tbody>\n",
       "</table>\n",
       "</div>"
      ],
      "text/plain": [
       "재구매수        1회    2회  3회 이상\n",
       "물품대분류_x                    \n",
       "FC         886   975   5634\n",
       "FMC       2379  1964  10418\n",
       "SKC       1503  1402   3865\n",
       "SrC          1     1      9\n",
       "기저귀       4360  4910  29134\n",
       "기타         716   827   4918\n",
       "더블하트      6142  5353  22025\n",
       "물티슈       1109   770   3836\n",
       "체험팩      12718  4929  14380\n",
       "팬티        2935  2653  20042"
      ]
     },
     "execution_count": 59,
     "metadata": {},
     "output_type": "execute_result"
    }
   ],
   "source": [
    "smp1.pivot_table(index='물품대분류_x', values='count', columns='재구매수',aggfunc='count')"
   ]
  },
  {
   "cell_type": "code",
   "execution_count": 60,
   "id": "87357e09",
   "metadata": {
    "collapsed": true
   },
   "outputs": [
    {
     "data": {
      "text/html": [
       "<div>\n",
       "<style scoped>\n",
       "    .dataframe tbody tr th:only-of-type {\n",
       "        vertical-align: middle;\n",
       "    }\n",
       "\n",
       "    .dataframe tbody tr th {\n",
       "        vertical-align: top;\n",
       "    }\n",
       "\n",
       "    .dataframe thead th {\n",
       "        text-align: right;\n",
       "    }\n",
       "</style>\n",
       "<table border=\"1\" class=\"dataframe\">\n",
       "  <thead>\n",
       "    <tr style=\"text-align: right;\">\n",
       "      <th>재구매수</th>\n",
       "      <th>1회</th>\n",
       "      <th>2회</th>\n",
       "      <th>3회 이상</th>\n",
       "    </tr>\n",
       "    <tr>\n",
       "      <th>물품대분류_y</th>\n",
       "      <th></th>\n",
       "      <th></th>\n",
       "      <th></th>\n",
       "    </tr>\n",
       "  </thead>\n",
       "  <tbody>\n",
       "    <tr>\n",
       "      <th>FC</th>\n",
       "      <td>886</td>\n",
       "      <td>975</td>\n",
       "      <td>5633</td>\n",
       "    </tr>\n",
       "    <tr>\n",
       "      <th>FMC</th>\n",
       "      <td>2379</td>\n",
       "      <td>1964</td>\n",
       "      <td>10418</td>\n",
       "    </tr>\n",
       "    <tr>\n",
       "      <th>SKC</th>\n",
       "      <td>1503</td>\n",
       "      <td>1402</td>\n",
       "      <td>3865</td>\n",
       "    </tr>\n",
       "    <tr>\n",
       "      <th>SrC</th>\n",
       "      <td>1</td>\n",
       "      <td>1</td>\n",
       "      <td>10</td>\n",
       "    </tr>\n",
       "    <tr>\n",
       "      <th>기저귀</th>\n",
       "      <td>4360</td>\n",
       "      <td>4203</td>\n",
       "      <td>24187</td>\n",
       "    </tr>\n",
       "    <tr>\n",
       "      <th>기타</th>\n",
       "      <td>716</td>\n",
       "      <td>1019</td>\n",
       "      <td>6146</td>\n",
       "    </tr>\n",
       "    <tr>\n",
       "      <th>더블하트</th>\n",
       "      <td>6142</td>\n",
       "      <td>5353</td>\n",
       "      <td>22025</td>\n",
       "    </tr>\n",
       "    <tr>\n",
       "      <th>물티슈</th>\n",
       "      <td>1109</td>\n",
       "      <td>757</td>\n",
       "      <td>3794</td>\n",
       "    </tr>\n",
       "    <tr>\n",
       "      <th>체험팩</th>\n",
       "      <td>12718</td>\n",
       "      <td>4929</td>\n",
       "      <td>14380</td>\n",
       "    </tr>\n",
       "    <tr>\n",
       "      <th>팬티</th>\n",
       "      <td>2935</td>\n",
       "      <td>3181</td>\n",
       "      <td>23803</td>\n",
       "    </tr>\n",
       "  </tbody>\n",
       "</table>\n",
       "</div>"
      ],
      "text/plain": [
       "재구매수        1회    2회  3회 이상\n",
       "물품대분류_y                    \n",
       "FC         886   975   5633\n",
       "FMC       2379  1964  10418\n",
       "SKC       1503  1402   3865\n",
       "SrC          1     1     10\n",
       "기저귀       4360  4203  24187\n",
       "기타         716  1019   6146\n",
       "더블하트      6142  5353  22025\n",
       "물티슈       1109   757   3794\n",
       "체험팩      12718  4929  14380\n",
       "팬티        2935  3181  23803"
      ]
     },
     "execution_count": 60,
     "metadata": {},
     "output_type": "execute_result"
    }
   ],
   "source": [
    "smp1.pivot_table(index='물품대분류_y', values='count', columns='재구매수',aggfunc='count')"
   ]
  },
  {
   "cell_type": "code",
   "execution_count": 67,
   "id": "99ecc4c4",
   "metadata": {
    "collapsed": true
   },
   "outputs": [
    {
     "name": "stdout",
     "output_type": "stream",
     "text": [
      "제품단가 :  NormaltestResult(statistic=29049.28915060082, pvalue=0.0)\n",
      "count :  NormaltestResult(statistic=105879.01133550433, pvalue=0.0)\n"
     ]
    }
   ],
   "source": [
    "# 정규분포 확인\n",
    "# 귀무가설: 정규분포를 따른다 \n",
    "# 대립가설: 정규분포를 따르지 않는다\n",
    "print('제품단가 : ',stats.normaltest(smp1['제품단가']))\n",
    "print('count : ',stats.normaltest(smp1['count']))\n",
    "# 제품단가 P.value < 0.05 | 대립가설 참 | 정규분포를 따르지 않는다\n",
    "# count  P.value < 0.05 | 대립가설 참 | 정규분포를 따르지 않는다\n",
    "# 제품단가, count는 정규분포를 따르지 않는다"
   ]
  },
  {
   "cell_type": "code",
   "execution_count": 66,
   "id": "8dee43db",
   "metadata": {
    "collapsed": true
   },
   "outputs": [
    {
     "data": {
      "text/plain": [
       "SignificanceResult(statistic=0.2264033492784376, pvalue=0.0)"
      ]
     },
     "execution_count": 66,
     "metadata": {},
     "output_type": "execute_result"
    }
   ],
   "source": [
    "# 상관관계 확인 (제품단가, count 둘다 정규분포 아님)\n",
    "# 귀무가설: 서로 연관성이 없다\n",
    "# 대립가설: 서로 연관성이 있다\n",
    "stats.spearmanr(smp1['제품단가'], smp1['count'])\n",
    "# P.value < 0.05 | 대립가설 참 |제품단가, count는 상관성이 있다."
   ]
  },
  {
   "cell_type": "code",
   "execution_count": 73,
   "id": "710671c4",
   "metadata": {
    "collapsed": true
   },
   "outputs": [
    {
     "name": "stderr",
     "output_type": "stream",
     "text": [
      "/var/folders/sv/4hcm2v0d5hl630v663cqcpkh0000gn/T/ipykernel_29295/2997478371.py:1: FutureWarning: The default value of numeric_only in DataFrame.corr is deprecated. In a future version, it will default to False. Select only valid columns or specify the value of numeric_only to silence this warning.\n",
      "  smp1.corr(method='spearman')\n"
     ]
    },
    {
     "data": {
      "text/html": [
       "<div>\n",
       "<style scoped>\n",
       "    .dataframe tbody tr th:only-of-type {\n",
       "        vertical-align: middle;\n",
       "    }\n",
       "\n",
       "    .dataframe tbody tr th {\n",
       "        vertical-align: top;\n",
       "    }\n",
       "\n",
       "    .dataframe thead th {\n",
       "        text-align: right;\n",
       "    }\n",
       "</style>\n",
       "<table border=\"1\" class=\"dataframe\">\n",
       "  <thead>\n",
       "    <tr style=\"text-align: right;\">\n",
       "      <th></th>\n",
       "      <th>구매자 자녀 나이(개월)</th>\n",
       "      <th>구매금액</th>\n",
       "      <th>결제금액</th>\n",
       "      <th>할인율</th>\n",
       "      <th>연령</th>\n",
       "      <th>물품판매량</th>\n",
       "      <th>제품단가</th>\n",
       "      <th>판매량</th>\n",
       "      <th>count</th>\n",
       "    </tr>\n",
       "  </thead>\n",
       "  <tbody>\n",
       "    <tr>\n",
       "      <th>구매자 자녀 나이(개월)</th>\n",
       "      <td>1.000000</td>\n",
       "      <td>0.095095</td>\n",
       "      <td>0.095011</td>\n",
       "      <td>0.111381</td>\n",
       "      <td>-0.002153</td>\n",
       "      <td>-0.297078</td>\n",
       "      <td>0.104922</td>\n",
       "      <td>0.254010</td>\n",
       "      <td>0.162638</td>\n",
       "    </tr>\n",
       "    <tr>\n",
       "      <th>구매금액</th>\n",
       "      <td>0.095095</td>\n",
       "      <td>1.000000</td>\n",
       "      <td>0.979279</td>\n",
       "      <td>0.458419</td>\n",
       "      <td>-0.001167</td>\n",
       "      <td>-0.176369</td>\n",
       "      <td>0.951332</td>\n",
       "      <td>0.582983</td>\n",
       "      <td>0.230792</td>\n",
       "    </tr>\n",
       "    <tr>\n",
       "      <th>결제금액</th>\n",
       "      <td>0.095011</td>\n",
       "      <td>0.979279</td>\n",
       "      <td>1.000000</td>\n",
       "      <td>0.311533</td>\n",
       "      <td>-0.001688</td>\n",
       "      <td>-0.185130</td>\n",
       "      <td>0.929738</td>\n",
       "      <td>0.584881</td>\n",
       "      <td>0.222151</td>\n",
       "    </tr>\n",
       "    <tr>\n",
       "      <th>할인율</th>\n",
       "      <td>0.111381</td>\n",
       "      <td>0.458419</td>\n",
       "      <td>0.311533</td>\n",
       "      <td>1.000000</td>\n",
       "      <td>0.003091</td>\n",
       "      <td>-0.098870</td>\n",
       "      <td>0.475401</td>\n",
       "      <td>0.263086</td>\n",
       "      <td>0.147623</td>\n",
       "    </tr>\n",
       "    <tr>\n",
       "      <th>연령</th>\n",
       "      <td>-0.002153</td>\n",
       "      <td>-0.001167</td>\n",
       "      <td>-0.001688</td>\n",
       "      <td>0.003091</td>\n",
       "      <td>1.000000</td>\n",
       "      <td>-0.005027</td>\n",
       "      <td>0.000308</td>\n",
       "      <td>0.003935</td>\n",
       "      <td>0.003809</td>\n",
       "    </tr>\n",
       "    <tr>\n",
       "      <th>물품판매량</th>\n",
       "      <td>-0.297078</td>\n",
       "      <td>-0.176369</td>\n",
       "      <td>-0.185130</td>\n",
       "      <td>-0.098870</td>\n",
       "      <td>-0.005027</td>\n",
       "      <td>1.000000</td>\n",
       "      <td>-0.136730</td>\n",
       "      <td>-0.860606</td>\n",
       "      <td>-0.217992</td>\n",
       "    </tr>\n",
       "    <tr>\n",
       "      <th>제품단가</th>\n",
       "      <td>0.104922</td>\n",
       "      <td>0.951332</td>\n",
       "      <td>0.929738</td>\n",
       "      <td>0.475401</td>\n",
       "      <td>0.000308</td>\n",
       "      <td>-0.136730</td>\n",
       "      <td>1.000000</td>\n",
       "      <td>0.565615</td>\n",
       "      <td>0.226403</td>\n",
       "    </tr>\n",
       "    <tr>\n",
       "      <th>판매량</th>\n",
       "      <td>0.254010</td>\n",
       "      <td>0.582983</td>\n",
       "      <td>0.584881</td>\n",
       "      <td>0.263086</td>\n",
       "      <td>0.003935</td>\n",
       "      <td>-0.860606</td>\n",
       "      <td>0.565615</td>\n",
       "      <td>1.000000</td>\n",
       "      <td>0.263166</td>\n",
       "    </tr>\n",
       "    <tr>\n",
       "      <th>count</th>\n",
       "      <td>0.162638</td>\n",
       "      <td>0.230792</td>\n",
       "      <td>0.222151</td>\n",
       "      <td>0.147623</td>\n",
       "      <td>0.003809</td>\n",
       "      <td>-0.217992</td>\n",
       "      <td>0.226403</td>\n",
       "      <td>0.263166</td>\n",
       "      <td>1.000000</td>\n",
       "    </tr>\n",
       "  </tbody>\n",
       "</table>\n",
       "</div>"
      ],
      "text/plain": [
       "               구매자 자녀 나이(개월)      구매금액      결제금액       할인율        연령  \\\n",
       "구매자 자녀 나이(개월)       1.000000  0.095095  0.095011  0.111381 -0.002153   \n",
       "구매금액                0.095095  1.000000  0.979279  0.458419 -0.001167   \n",
       "결제금액                0.095011  0.979279  1.000000  0.311533 -0.001688   \n",
       "할인율                 0.111381  0.458419  0.311533  1.000000  0.003091   \n",
       "연령                 -0.002153 -0.001167 -0.001688  0.003091  1.000000   \n",
       "물품판매량              -0.297078 -0.176369 -0.185130 -0.098870 -0.005027   \n",
       "제품단가                0.104922  0.951332  0.929738  0.475401  0.000308   \n",
       "판매량                 0.254010  0.582983  0.584881  0.263086  0.003935   \n",
       "count               0.162638  0.230792  0.222151  0.147623  0.003809   \n",
       "\n",
       "                  물품판매량      제품단가       판매량     count  \n",
       "구매자 자녀 나이(개월) -0.297078  0.104922  0.254010  0.162638  \n",
       "구매금액          -0.176369  0.951332  0.582983  0.230792  \n",
       "결제금액          -0.185130  0.929738  0.584881  0.222151  \n",
       "할인율           -0.098870  0.475401  0.263086  0.147623  \n",
       "연령            -0.005027  0.000308  0.003935  0.003809  \n",
       "물품판매량          1.000000 -0.136730 -0.860606 -0.217992  \n",
       "제품단가          -0.136730  1.000000  0.565615  0.226403  \n",
       "판매량           -0.860606  0.565615  1.000000  0.263166  \n",
       "count         -0.217992  0.226403  0.263166  1.000000  "
      ]
     },
     "execution_count": 73,
     "metadata": {},
     "output_type": "execute_result"
    }
   ],
   "source": [
    "smp1.corr(method='spearman')\n",
    "# 각 연속형 변수의 상관성 확인"
   ]
  },
  {
   "cell_type": "code",
   "execution_count": 74,
   "id": "2e834823",
   "metadata": {},
   "outputs": [
    {
     "data": {
      "text/plain": [
       "0.14762349228462182"
      ]
     },
     "execution_count": 74,
     "metadata": {},
     "output_type": "execute_result"
    }
   ],
   "source": [
    "smp1['할인율'].corr(smp1['count'], method='spearman')"
   ]
  },
  {
   "cell_type": "code",
   "execution_count": 75,
   "id": "05ff9809",
   "metadata": {},
   "outputs": [
    {
     "name": "stdout",
     "output_type": "stream",
     "text": [
      "제품단가 :  NormaltestResult(statistic=717.0354765672807, pvalue=1.984835865730081e-156)\n",
      "count :  NormaltestResult(statistic=105879.01133550433, pvalue=0.0)\n"
     ]
    }
   ],
   "source": [
    "# 정규분포 확인\n",
    "# 귀무가설: 정규분포를 따른다 \n",
    "# 대립가설: 정규분포를 따르지 않는다\n",
    "print('할인율 : ',stats.normaltest(smp1['할인율']))\n",
    "print('count : ',stats.normaltest(smp1['count']))\n",
    "# 제품단가 P.value < 0.05 | 대립가설 참 | 정규분포를 따르지 않는다\n",
    "# count  P.value < 0.05 | 대립가설 참 | 정규분포를 따르지 않는다\n",
    "# 제품단가, count는 정규분포를 따르지 않는다"
   ]
  },
  {
   "cell_type": "code",
   "execution_count": 76,
   "id": "080856bd",
   "metadata": {},
   "outputs": [
    {
     "data": {
      "text/plain": [
       "SignificanceResult(statistic=0.14762349228462182, pvalue=0.0)"
      ]
     },
     "execution_count": 76,
     "metadata": {},
     "output_type": "execute_result"
    }
   ],
   "source": [
    "# 상관관계 확인 (제품단가, count 둘다 정규분포 아님)\n",
    "# 귀무가설: 서로 연관성이 없다\n",
    "# 대립가설: 서로 연관성이 있다\n",
    "stats.spearmanr(smp1['할인율'], smp1['count'])\n",
    "# P.value < 0.05 | 대립가설 참 |제품단가, count는 상관성이 있다."
   ]
  },
  {
   "cell_type": "markdown",
   "id": "280ba3b3",
   "metadata": {},
   "source": [
    "## 해보고 싶은 거 해보고 있는중.."
   ]
  },
  {
   "cell_type": "code",
   "execution_count": 78,
   "id": "b55fbed6",
   "metadata": {
    "collapsed": true
   },
   "outputs": [
    {
     "name": "stdout",
     "output_type": "stream",
     "text": [
      "<class 'pandas.core.frame.DataFrame'>\n",
      "Int64Index: 170794 entries, 0 to 170793\n",
      "Data columns (total 27 columns):\n",
      " #   Column         Non-Null Count   Dtype  \n",
      "---  ------         --------------   -----  \n",
      " 0   배송시작일          170794 non-null  object \n",
      " 1   배송완료일          170794 non-null  object \n",
      " 2   구매자 자녀 나이(개월)  170794 non-null  int64  \n",
      " 3   고객번호           170794 non-null  object \n",
      " 4   구매금액           170794 non-null  int64  \n",
      " 5   결제금액           170794 non-null  int64  \n",
      " 6   물품대분류_x        170794 non-null  object \n",
      " 7   상품명            170794 non-null  object \n",
      " 8   구매일_dt         170794 non-null  object \n",
      " 9   출산여부           170794 non-null  object \n",
      " 10  가입일            170794 non-null  object \n",
      " 11  할인율            170794 non-null  float64\n",
      " 12  유아용여부          170794 non-null  object \n",
      " 13  성별             168304 non-null  object \n",
      " 14  결혼유무           168304 non-null  object \n",
      " 15  거주지역           168304 non-null  object \n",
      " 16  연령             168304 non-null  float64\n",
      " 17  결제등록카드         168304 non-null  object \n",
      " 18  유입경로           168304 non-null  object \n",
      " 19  자녀여부           168304 non-null  object \n",
      " 20  물품대분류_y        170794 non-null  object \n",
      " 21  물품판매량          170794 non-null  int64  \n",
      " 22  제품단가           170794 non-null  int64  \n",
      " 23  판매량            170794 non-null  float64\n",
      " 24  count          170794 non-null  int64  \n",
      " 25  구매횟수별구분        170794 non-null  object \n",
      " 26  재구매수           170794 non-null  object \n",
      "dtypes: float64(3), int64(6), object(18)\n",
      "memory usage: 36.5+ MB\n"
     ]
    }
   ],
   "source": [
    "smp1.info()"
   ]
  },
  {
   "cell_type": "code",
   "execution_count": 97,
   "id": "8f441c4c",
   "metadata": {
    "collapsed": true
   },
   "outputs": [
    {
     "data": {
      "text/plain": [
       "Index(['배송시작일', '배송완료일', '고객번호', '물품대분류_x', '상품명', '구매일_dt', '출산여부', '가입일',\n",
       "       '유아용여부', '성별', '결혼유무', '거주지역', '결제등록카드', '유입경로', '자녀여부', '물품대분류_y',\n",
       "       '구매횟수별구분', '재구매수'],\n",
       "      dtype='object')"
      ]
     },
     "execution_count": 97,
     "metadata": {},
     "output_type": "execute_result"
    }
   ],
   "source": [
    "smp1.select_dtypes(\"object\").columns"
   ]
  },
  {
   "cell_type": "markdown",
   "id": "3a4e2380",
   "metadata": {},
   "source": [
    "'고객번호', '물품대분류_x', '상품명', '출산여부','유아용여부', '성별', '결혼유무', '거주지역', '결제등록카드', '유입경로', '자녀여부', '물품대분류_y','재구매수'"
   ]
  },
  {
   "cell_type": "code",
   "execution_count": 86,
   "id": "74e98538",
   "metadata": {},
   "outputs": [],
   "source": [
    "c1 = pd.crosstab(smp1['고객번호'], smp1['물품대분류_x'])"
   ]
  },
  {
   "cell_type": "code",
   "execution_count": 87,
   "id": "74616b14",
   "metadata": {
    "collapsed": true
   },
   "outputs": [
    {
     "data": {
      "text/plain": [
       "Chi2ContingencyResult(statistic=753811.9266360594, pvalue=0.0, dof=574965, expected_freq=array([[0.08776655, 0.17285151, 0.07927679, ..., 0.06692273, 0.37503659,\n",
       "        0.30012764],\n",
       "       [0.08776655, 0.17285151, 0.07927679, ..., 0.06692273, 0.37503659,\n",
       "        0.30012764],\n",
       "       [0.08776655, 0.17285151, 0.07927679, ..., 0.06692273, 0.37503659,\n",
       "        0.30012764],\n",
       "       ...,\n",
       "       [0.04388327, 0.08642575, 0.03963839, ..., 0.03346136, 0.1875183 ,\n",
       "        0.15006382],\n",
       "       [0.04388327, 0.08642575, 0.03963839, ..., 0.03346136, 0.1875183 ,\n",
       "        0.15006382],\n",
       "       [0.04388327, 0.08642575, 0.03963839, ..., 0.03346136, 0.1875183 ,\n",
       "        0.15006382]]))"
      ]
     },
     "execution_count": 87,
     "metadata": {},
     "output_type": "execute_result"
    }
   ],
   "source": [
    "stats.chi2_contingency(c1)"
   ]
  },
  {
   "cell_type": "code",
   "execution_count": 111,
   "id": "e78712ab",
   "metadata": {},
   "outputs": [],
   "source": [
    "c2 = pd.crosstab(smp1['고객번호'], smp1['상품명'])"
   ]
  },
  {
   "cell_type": "code",
   "execution_count": 112,
   "id": "6eeb3e02",
   "metadata": {
    "collapsed": true
   },
   "outputs": [
    {
     "data": {
      "text/plain": [
       "Chi2ContingencyResult(statistic=160954643.6579373, pvalue=1.0, dof=177983610, expected_freq=array([[2.34200265e-05, 1.17100132e-05, 1.17100132e-05, ...,\n",
       "        1.52230172e-04, 8.19700926e-05, 3.51300397e-05],\n",
       "       [2.34200265e-05, 1.17100132e-05, 1.17100132e-05, ...,\n",
       "        1.52230172e-04, 8.19700926e-05, 3.51300397e-05],\n",
       "       [2.34200265e-05, 1.17100132e-05, 1.17100132e-05, ...,\n",
       "        1.52230172e-04, 8.19700926e-05, 3.51300397e-05],\n",
       "       ...,\n",
       "       [1.17100132e-05, 5.85500662e-06, 5.85500662e-06, ...,\n",
       "        7.61150860e-05, 4.09850463e-05, 1.75650198e-05],\n",
       "       [1.17100132e-05, 5.85500662e-06, 5.85500662e-06, ...,\n",
       "        7.61150860e-05, 4.09850463e-05, 1.75650198e-05],\n",
       "       [1.17100132e-05, 5.85500662e-06, 5.85500662e-06, ...,\n",
       "        7.61150860e-05, 4.09850463e-05, 1.75650198e-05]]))"
      ]
     },
     "execution_count": 112,
     "metadata": {},
     "output_type": "execute_result"
    }
   ],
   "source": [
    "stats.chi2_contingency(c2)"
   ]
  },
  {
   "cell_type": "code",
   "execution_count": 117,
   "id": "799e848a",
   "metadata": {},
   "outputs": [],
   "source": [
    "c3  = pd.crosstab(smp1['고객번호'], smp1['출산여부'])"
   ]
  },
  {
   "cell_type": "code",
   "execution_count": 118,
   "id": "d995fcab",
   "metadata": {
    "collapsed": true
   },
   "outputs": [
    {
     "data": {
      "text/plain": [
       "Chi2ContingencyResult(statistic=681872.6376388259, pvalue=0.0, dof=319425, expected_freq=array([[1.32512852, 0.26388515, 0.0899329 , 0.05641884, 0.09246226,\n",
       "        0.17217232],\n",
       "       [1.32512852, 0.26388515, 0.0899329 , 0.05641884, 0.09246226,\n",
       "        0.17217232],\n",
       "       [1.32512852, 0.26388515, 0.0899329 , 0.05641884, 0.09246226,\n",
       "        0.17217232],\n",
       "       ...,\n",
       "       [0.66256426, 0.13194257, 0.04496645, 0.02820942, 0.04623113,\n",
       "        0.08608616],\n",
       "       [0.66256426, 0.13194257, 0.04496645, 0.02820942, 0.04623113,\n",
       "        0.08608616],\n",
       "       [0.66256426, 0.13194257, 0.04496645, 0.02820942, 0.04623113,\n",
       "        0.08608616]]))"
      ]
     },
     "execution_count": 118,
     "metadata": {},
     "output_type": "execute_result"
    }
   ],
   "source": [
    "stats.chi2_contingency(c3)"
   ]
  },
  {
   "cell_type": "code",
   "execution_count": 119,
   "id": "f037959b",
   "metadata": {},
   "outputs": [],
   "source": [
    "c4 = pd.crosstab(smp1['고객번호'], smp1['유아용여부'])"
   ]
  },
  {
   "cell_type": "code",
   "execution_count": 120,
   "id": "ae2a073c",
   "metadata": {
    "collapsed": true
   },
   "outputs": [
    {
     "data": {
      "text/plain": [
       "Chi2ContingencyResult(statistic=90249.94748748306, pvalue=0.0, dof=63885, expected_freq=array([[0.27269108, 1.72730892],\n",
       "       [0.27269108, 1.72730892],\n",
       "       [0.27269108, 1.72730892],\n",
       "       ...,\n",
       "       [0.13634554, 0.86365446],\n",
       "       [0.13634554, 0.86365446],\n",
       "       [0.13634554, 0.86365446]]))"
      ]
     },
     "execution_count": 120,
     "metadata": {},
     "output_type": "execute_result"
    }
   ],
   "source": [
    "stats.chi2_contingency(c4)"
   ]
  },
  {
   "cell_type": "code",
   "execution_count": 121,
   "id": "0654284e",
   "metadata": {},
   "outputs": [],
   "source": [
    "c5  = pd.crosstab(smp1['고객번호'], smp1['성별'])"
   ]
  },
  {
   "cell_type": "code",
   "execution_count": 122,
   "id": "9f865366",
   "metadata": {
    "collapsed": true
   },
   "outputs": [
    {
     "data": {
      "text/plain": [
       "Chi2ContingencyResult(statistic=168303.99999999994, pvalue=0.0, dof=62521, expected_freq=array([[0.06296939, 1.93703061],\n",
       "       [0.06296939, 1.93703061],\n",
       "       [0.06296939, 1.93703061],\n",
       "       ...,\n",
       "       [0.03148469, 0.96851531],\n",
       "       [0.03148469, 0.96851531],\n",
       "       [0.03148469, 0.96851531]]))"
      ]
     },
     "execution_count": 122,
     "metadata": {},
     "output_type": "execute_result"
    }
   ],
   "source": [
    "stats.chi2_contingency(c5)"
   ]
  },
  {
   "cell_type": "code",
   "execution_count": 124,
   "id": "34c9ebf5",
   "metadata": {},
   "outputs": [],
   "source": [
    "c6  = pd.crosstab(smp1['고객번호'], smp1['결혼유무'])"
   ]
  },
  {
   "cell_type": "code",
   "execution_count": 125,
   "id": "3e3ed56d",
   "metadata": {
    "collapsed": true
   },
   "outputs": [
    {
     "data": {
      "text/plain": [
       "Chi2ContingencyResult(statistic=168304.00000000006, pvalue=0.0, dof=62521, expected_freq=array([[1.69433882, 0.30566118],\n",
       "       [1.69433882, 0.30566118],\n",
       "       [1.69433882, 0.30566118],\n",
       "       ...,\n",
       "       [0.84716941, 0.15283059],\n",
       "       [0.84716941, 0.15283059],\n",
       "       [0.84716941, 0.15283059]]))"
      ]
     },
     "execution_count": 125,
     "metadata": {},
     "output_type": "execute_result"
    }
   ],
   "source": [
    "stats.chi2_contingency(c6)"
   ]
  },
  {
   "cell_type": "code",
   "execution_count": 126,
   "id": "8b8bc058",
   "metadata": {},
   "outputs": [],
   "source": [
    "c7  = pd.crosstab(smp1['고객번호'], smp1['거주지역'])"
   ]
  },
  {
   "cell_type": "code",
   "execution_count": 127,
   "id": "d3e47436",
   "metadata": {
    "collapsed": true
   },
   "outputs": [
    {
     "data": {
      "text/plain": [
       "Chi2ContingencyResult(statistic=2356256.0, pvalue=0.0, dof=875294, expected_freq=array([[0.16900371, 0.38291425, 0.07331971, ..., 0.02516874, 0.15185617,\n",
       "        0.20750547],\n",
       "       [0.16900371, 0.38291425, 0.07331971, ..., 0.02516874, 0.15185617,\n",
       "        0.20750547],\n",
       "       [0.16900371, 0.38291425, 0.07331971, ..., 0.02516874, 0.15185617,\n",
       "        0.20750547],\n",
       "       ...,\n",
       "       [0.08450185, 0.19145713, 0.03665985, ..., 0.01258437, 0.07592808,\n",
       "        0.10375273],\n",
       "       [0.08450185, 0.19145713, 0.03665985, ..., 0.01258437, 0.07592808,\n",
       "        0.10375273],\n",
       "       [0.08450185, 0.19145713, 0.03665985, ..., 0.01258437, 0.07592808,\n",
       "        0.10375273]]))"
      ]
     },
     "execution_count": 127,
     "metadata": {},
     "output_type": "execute_result"
    }
   ],
   "source": [
    "stats.chi2_contingency(c7)"
   ]
  },
  {
   "cell_type": "code",
   "execution_count": 128,
   "id": "77613799",
   "metadata": {},
   "outputs": [],
   "source": [
    "c8  = pd.crosstab(smp1['고객번호'], smp1['결제등록카드'])"
   ]
  },
  {
   "cell_type": "code",
   "execution_count": 129,
   "id": "4cb3d2cc",
   "metadata": {
    "collapsed": true
   },
   "outputs": [
    {
     "data": {
      "text/plain": [
       "Chi2ContingencyResult(statistic=3870991.9999999977, pvalue=0.0, dof=1437983, expected_freq=array([[0.06573819, 0.01960738, 0.00551383, ..., 0.01480654, 0.06545299,\n",
       "        0.05353408],\n",
       "       [0.06573819, 0.01960738, 0.00551383, ..., 0.01480654, 0.06545299,\n",
       "        0.05353408],\n",
       "       [0.06573819, 0.01960738, 0.00551383, ..., 0.01480654, 0.06545299,\n",
       "        0.05353408],\n",
       "       ...,\n",
       "       [0.03286909, 0.00980369, 0.00275692, ..., 0.00740327, 0.03272649,\n",
       "        0.02676704],\n",
       "       [0.03286909, 0.00980369, 0.00275692, ..., 0.00740327, 0.03272649,\n",
       "        0.02676704],\n",
       "       [0.03286909, 0.00980369, 0.00275692, ..., 0.00740327, 0.03272649,\n",
       "        0.02676704]]))"
      ]
     },
     "execution_count": 129,
     "metadata": {},
     "output_type": "execute_result"
    }
   ],
   "source": [
    "stats.chi2_contingency(c8)"
   ]
  },
  {
   "cell_type": "code",
   "execution_count": 85,
   "id": "a6bfd67e",
   "metadata": {
    "scrolled": true
   },
   "outputs": [],
   "source": [
    "c2 = pd.crosstab(smp1['고객번호'], smp1['물품대분류_y'])"
   ]
  },
  {
   "cell_type": "code",
   "execution_count": 88,
   "id": "4cdbff06",
   "metadata": {
    "collapsed": true
   },
   "outputs": [
    {
     "data": {
      "text/plain": [
       "Chi2ContingencyResult(statistic=725261.8682379613, pvalue=0.0, dof=574965, expected_freq=array([[0.08775484, 0.17285151, 0.07927679, ..., 0.06627867, 0.37503659,\n",
       "        0.35035189],\n",
       "       [0.08775484, 0.17285151, 0.07927679, ..., 0.06627867, 0.37503659,\n",
       "        0.35035189],\n",
       "       [0.08775484, 0.17285151, 0.07927679, ..., 0.06627867, 0.37503659,\n",
       "        0.35035189],\n",
       "       ...,\n",
       "       [0.04387742, 0.08642575, 0.03963839, ..., 0.03313934, 0.1875183 ,\n",
       "        0.17517594],\n",
       "       [0.04387742, 0.08642575, 0.03963839, ..., 0.03313934, 0.1875183 ,\n",
       "        0.17517594],\n",
       "       [0.04387742, 0.08642575, 0.03963839, ..., 0.03313934, 0.1875183 ,\n",
       "        0.17517594]]))"
      ]
     },
     "execution_count": 88,
     "metadata": {},
     "output_type": "execute_result"
    }
   ],
   "source": [
    "stats.chi2_contingency(c2)"
   ]
  },
  {
   "cell_type": "code",
   "execution_count": 102,
   "id": "6de653a5",
   "metadata": {},
   "outputs": [],
   "source": [
    "c4 = pd.crosstab(smp1['상품명'], smp1['재구매수'])"
   ]
  },
  {
   "cell_type": "code",
   "execution_count": 103,
   "id": "63239e34",
   "metadata": {
    "collapsed": true
   },
   "outputs": [
    {
     "data": {
      "text/plain": [
       "Chi2ContingencyResult(statistic=41907.95014101642, pvalue=0.0, dof=5572, expected_freq=array([[0.38349122, 0.27851095, 1.33799782],\n",
       "       [0.19174561, 0.13925548, 0.66899891],\n",
       "       [0.19174561, 0.13925548, 0.66899891],\n",
       "       ...,\n",
       "       [2.49269295, 1.81032121, 8.69698584],\n",
       "       [1.34221928, 0.97478834, 4.68299238],\n",
       "       [0.57523684, 0.41776643, 2.00699673]]))"
      ]
     },
     "execution_count": 103,
     "metadata": {},
     "output_type": "execute_result"
    }
   ],
   "source": [
    "stats.chi2_contingency(c4)"
   ]
  },
  {
   "cell_type": "code",
   "execution_count": 105,
   "id": "55a9b34f",
   "metadata": {},
   "outputs": [],
   "source": [
    "c5 = pd.crosstab(smp1['거주지역'], smp1['유입경로'])"
   ]
  },
  {
   "cell_type": "code",
   "execution_count": 106,
   "id": "a9e9c54c",
   "metadata": {
    "collapsed": true
   },
   "outputs": [
    {
     "data": {
      "text/plain": [
       "Chi2ContingencyResult(statistic=899.9532697941994, pvalue=4.38246494936452e-117, dof=126, expected_freq=array([[1.40492782e+03, 4.02947090e+03, 9.97121875e+02, 6.78549886e+01,\n",
       "        3.62681956e+02, 3.77723286e+01, 5.48898692e+03, 1.40146325e+03,\n",
       "        1.93509245e+02, 2.38210726e+02],\n",
       "       [3.18316616e+03, 9.12963302e+03, 2.25919408e+03, 1.53740072e+02,\n",
       "        8.21733981e+02, 8.55813350e+01, 1.24364805e+04, 3.17531642e+03,\n",
       "        4.38436817e+02, 5.39717636e+02],\n",
       "       [6.09506726e+02, 1.74812512e+03, 4.32586272e+02, 2.94378624e+01,\n",
       "        1.57344092e+02, 1.63869546e+01, 2.38131411e+03, 6.08003672e+02,\n",
       "        8.39510647e+01, 1.03344127e+02],\n",
       "       [7.02167554e+02, 2.01388547e+03, 4.98350604e+02, 3.39131809e+01,\n",
       "        1.81264474e+02, 1.88781966e+01, 2.74333561e+03, 7.00435997e+02,\n",
       "        9.67138036e+01, 1.19055115e+02],\n",
       "       [4.28729204e+02, 1.22963744e+03, 3.04282726e+02, 2.07066974e+01,\n",
       "        1.10676395e+02, 1.15266423e+01, 1.67502484e+03, 4.27671951e+02,\n",
       "        5.90514783e+01, 7.26926276e+01],\n",
       "       [4.54314657e+02, 1.30301903e+03, 3.22441534e+02, 2.19424197e+01,\n",
       "        1.17281277e+02, 1.22145225e+01, 1.77498600e+03, 4.53194309e+02,\n",
       "        6.25755181e+01, 7.70307360e+01],\n",
       "       [7.06316546e+02, 2.02578519e+03, 5.01295275e+02, 3.41135683e+01,\n",
       "        1.82335536e+02, 1.89897447e+01, 2.75954552e+03, 7.04574758e+02,\n",
       "        9.72852695e+01, 1.19758592e+02],\n",
       "       [1.44572625e+03, 4.14648478e+03, 1.02607781e+03, 6.98254646e+01,\n",
       "        3.73214065e+02, 3.88692188e+01, 5.64838444e+03, 1.44216106e+03,\n",
       "        1.99128660e+02, 2.45128250e+02],\n",
       "       [2.79079003e+03, 8.00425976e+03, 1.98071228e+03, 1.34789149e+02,\n",
       "        7.20442129e+02, 7.50320670e+01, 1.09034854e+04, 2.78390790e+03,\n",
       "        3.84392468e+02, 4.73188807e+02],\n",
       "       [7.79220268e+02, 2.23488022e+03, 5.53037361e+02, 3.76346611e+01,\n",
       "        2.01155623e+02, 2.09498051e+01, 3.04437694e+03, 7.77298698e+02,\n",
       "        1.07326742e+02, 1.32119688e+02],\n",
       "       [4.36138119e+02, 1.25088694e+03, 3.09541069e+02, 2.10645320e+01,\n",
       "        1.12589006e+02, 1.17258354e+01, 1.70397112e+03, 4.35062595e+02,\n",
       "        6.00719531e+01, 7.39488366e+01],\n",
       "       [4.88395665e+02, 1.40076671e+03, 3.46629908e+02, 2.35884590e+01,\n",
       "        1.26079285e+02, 1.31308109e+01, 1.90813889e+03, 4.87191273e+02,\n",
       "        6.72697024e+01, 8.28092975e+01],\n",
       "       [2.09227755e+02, 6.00085738e+02, 1.48495579e+02, 1.01052500e+01,\n",
       "        5.40121209e+01, 5.62521390e+00, 8.17442996e+02, 2.08711795e+02,\n",
       "        2.88182099e+01, 3.54753422e+01],\n",
       "       [1.26238030e+03, 3.62063061e+03, 8.95951374e+02, 6.09702503e+01,\n",
       "        3.25883330e+02, 3.39398529e+01, 4.93206046e+03, 1.25926725e+03,\n",
       "        1.73875309e+02, 2.14041265e+02],\n",
       "       [1.72499294e+03, 4.94744908e+03, 1.22428225e+03, 8.33134447e+01,\n",
       "        4.45306731e+02, 4.63774717e+01, 6.73946629e+03, 1.72073908e+03,\n",
       "        2.37593759e+02, 2.92478955e+02]]))"
      ]
     },
     "execution_count": 106,
     "metadata": {},
     "output_type": "execute_result"
    }
   ],
   "source": [
    "stats.chi2_contingency(c5)"
   ]
  },
  {
   "cell_type": "code",
   "execution_count": 108,
   "id": "aac67f6c",
   "metadata": {},
   "outputs": [],
   "source": [
    "c6 = pd.crosstab(smp1['성별'], smp1['거주지역'])"
   ]
  },
  {
   "cell_type": "code",
   "execution_count": 109,
   "id": "fc9b53ca",
   "metadata": {
    "collapsed": true
   },
   "outputs": [
    {
     "data": {
      "text/plain": [
       "Chi2ContingencyResult(statistic=62.81836890378455, pvalue=3.73729428640863e-08, dof=14, expected_freq=array([[  447.77532322,  1014.53130645,   194.26056422,   223.79320753,\n",
       "          136.64357353,   144.79810937,   225.11556469,   460.778502  ,\n",
       "          889.47410044,   248.35126913,   139.00492561,   155.66032893,\n",
       "           66.68458266,   402.34290926,   549.78573296],\n",
       "       [13774.22467678, 31208.46869355,  5975.73943578,  6884.20679247,\n",
       "         4203.35642647,  4454.20189063,  6924.88443531, 14174.221498  ,\n",
       "        27361.52589956,  7639.64873087,  4275.99507439,  4788.33967107,\n",
       "         2051.31541734, 12376.65709074, 16912.21426704]]))"
      ]
     },
     "execution_count": 109,
     "metadata": {},
     "output_type": "execute_result"
    }
   ],
   "source": [
    "stats.chi2_contingency(c6)"
   ]
  },
  {
   "cell_type": "code",
   "execution_count": null,
   "id": "ea8064ef",
   "metadata": {},
   "outputs": [],
   "source": []
  }
 ],
 "metadata": {
  "kernelspec": {
   "display_name": "Python 3 (ipykernel)",
   "language": "python",
   "name": "python3"
  },
  "language_info": {
   "codemirror_mode": {
    "name": "ipython",
    "version": 3
   },
   "file_extension": ".py",
   "mimetype": "text/x-python",
   "name": "python",
   "nbconvert_exporter": "python",
   "pygments_lexer": "ipython3",
   "version": "3.10.11"
  }
 },
 "nbformat": 4,
 "nbformat_minor": 5
}
